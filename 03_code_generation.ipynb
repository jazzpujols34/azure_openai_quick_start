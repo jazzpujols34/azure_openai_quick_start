{
 "cells": [
  {
   "cell_type": "markdown",
   "metadata": {},
   "source": [
    "# 理解程式碼內容與生成程式碼"
   ]
  },
  {
   "cell_type": "markdown",
   "metadata": {},
   "source": [
    "使用 gpt-35-turbo 與 gpt-3 支援的 Completion API 來進行自動完成"
   ]
  },
  {
   "cell_type": "code",
   "execution_count": 1,
   "metadata": {},
   "outputs": [
    {
     "name": "stdout",
     "output_type": "stream",
     "text": [
      " Department.name FROM Department \n",
      "        JOIN Employee ON Department.id = Employee.department_id \n",
      "        JOIN Salary_Payments ON Employee.id = Salary_Payments.employee_id \n",
      "        WHERE Salary_Payments.date >= NOW() - INTERVAL '3 months' \n",
      "        GROUP BY Department.name \n",
      "        HAVING COUNT(DISTINCT Employee.id) > 10\n"
     ]
    }
   ],
   "source": [
    "import os\n",
    "import openai\n",
    "from dotenv import load_dotenv\n",
    "\n",
    "# 載入環境變數\n",
    "load_dotenv()\n",
    "\n",
    "# 設定呼叫 OpenAI API 所需連線資訊\n",
    "openai.api_type = os.getenv(\"OPENAI_API_TYPE\")\n",
    "openai.api_version = os.getenv(\"OPENAI_API_VERSION\")\n",
    "\n",
    "API_KEY = os.getenv(\"OPENAI_API_KEY\")\n",
    "assert API_KEY, \"發生錯誤: 缺少 Azure OpenAI Service 鍵值\"\n",
    "openai.api_key = API_KEY\n",
    "\n",
    "RESOURCE_ENDPOINT = os.getenv(\"OPENAI_API_BASE\")\n",
    "assert RESOURCE_ENDPOINT, \"發生錯誤: 缺少 Azure OpenAI Service 連線端點\"\n",
    "assert \"openai.azure.com\" in RESOURCE_ENDPOINT.lower(), \"發生錯誤: Azure OpenAI Service 連線端點格式應該如: \\n\\n\\t<您所建立之資源名稱>.openai.azure.com\"\n",
    "openai.api_base = RESOURCE_ENDPOINT\n",
    "\n",
    "model = os.getenv(\"DEPLOYMENT_NAME\")\n",
    "\n",
    "# 呼叫自動完成 API\n",
    "response = openai.Completion.create(\n",
    "  engine= model,\n",
    "  prompt=\"### Postgres SQL tables, with their properties:\\n\" \\\n",
    "         \"#\\n\" \\\n",
    "         \"# Employee(id, name, department_id) \\n\" \\\n",
    "         \"# Department(id, name, address)\\n\" \\\n",
    "         \"# Salary_Payments(id, employee_id, amount, date) \\n\" \\\n",
    "         \"### \" \\\n",
    "         \"查詢列出過去 3 個月僱用超過 10 名員工的部門名稱 \\n\"\n",
    "         \"query: SELECT\",\n",
    "  temperature=0,\n",
    "  max_tokens=150,\n",
    "  top_p=1,\n",
    "  frequency_penalty=0,\n",
    "  presence_penalty=0,\n",
    "  stop=[\"#\",\";\"])\n",
    "\n",
    "print(response.choices[0].text)"
   ]
  },
  {
   "cell_type": "markdown",
   "metadata": {},
   "source": [
    "嘗試使用 gpt-35-turbo 與 gpt-4 方支援的 ChatCompletion API 來進行自動完成"
   ]
  },
  {
   "cell_type": "code",
   "execution_count": 2,
   "metadata": {},
   "outputs": [
    {
     "name": "stdout",
     "output_type": "stream",
     "text": [
      "這個 SQL 查詢的意思是：從 Department 表格和 Employee 表格中選擇部門名稱（d.name），並且只選擇那些在過去三個月中有薪資支付記錄的員工所在的部門。然後按照部門名稱進行分組，只顯示那些員工數量超過 10 人的部門。\n"
     ]
    }
   ],
   "source": [
    "response  = openai.ChatCompletion.create( \n",
    "  engine = model ,  \n",
    "  messages = [ \n",
    "    {'role': 'user', 'content': \"告訴我以下這個 SQL 是什麼意思??\\n\"\n",
    "      'Code:' \\\n",
    "      \"SELECT d.name FROM Department d JOIN Employee e ON d.id = e.department_id WHERE e.id IN (SELECT employee_id FROM Salary_Payments WHERE date > now() - interval '3 months') GROUP BY d.name HAVING COUNT(*) > 10\\n\" \\\n",
    "      'Answer:'    \n",
    "    }\n",
    "  ],\n",
    "  temperature=0,\n",
    "  max_tokens=250\n",
    ")\n",
    "\n",
    "print(response['choices'][0]['message']['content']) "
   ]
  }
 ],
 "metadata": {
  "kernelspec": {
   "display_name": "azureml_py310_sdkv2",
   "language": "python",
   "name": "python3"
  },
  "language_info": {
   "codemirror_mode": {
    "name": "ipython",
    "version": 3
   },
   "file_extension": ".py",
   "mimetype": "text/x-python",
   "name": "python",
   "nbconvert_exporter": "python",
   "pygments_lexer": "ipython3",
   "version": "3.11.4"
  },
  "orig_nbformat": 4,
  "vscode": {
   "interpreter": {
    "hash": "2139c70ac98f3202d028164a545621647e07f47fd6f5d8ac55cf952bf7c15ed1"
   }
  }
 },
 "nbformat": 4,
 "nbformat_minor": 2
}
