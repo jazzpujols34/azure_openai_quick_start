{
 "cells": [
  {
   "attachments": {},
   "cell_type": "markdown",
   "metadata": {},
   "source": [
    "# 提示工程 (Prompt Engineering) 最佳實踐\n",
    "\n",
    "參考 OpenAI 官網文件 https://help.openai.com/en/articles/6654000-best-practices-for-prompt-engineering-with-openai-api 內容，以實際範例協助開發人員理解最佳實踐\n"
   ]
  },
  {
   "cell_type": "code",
   "execution_count": 2,
   "metadata": {},
   "outputs": [],
   "source": [
    "import os\n",
    "import openai\n",
    "from dotenv import load_dotenv\n",
    "load_dotenv()\n",
    "openai.api_type = \"azure\"\n",
    "openai.api_version = \"2023-05-15\"\n",
    "\n",
    "API_KEY = os.getenv('OPENAI_API_KEY','<您的 API 鍵值>').strip()\n",
    "assert API_KEY, \"ERROR: Azure OpenAI Key is missing\"\n",
    "openai.api_key = API_KEY\n",
    "\n",
    "RESOURCE_ENDPOINT = os.getenv(\"OPENAI_API_BASE\",\"https://<您的 Azure OpenAI 資源名稱>.openai.azure.com/\").strip()\n",
    "assert RESOURCE_ENDPOINT, \"ERROR: Azure OpenAI Endpoint is missing\"\n",
    "assert \"openai.azure.com\" in RESOURCE_ENDPOINT.lower(), \"ERROR: Azure OpenAI Endpoint should be in the form: \\n\\n\\t<your unique endpoint identifier>.openai.azure.com\"\n",
    "openai.api_base = RESOURCE_ENDPOINT"
   ]
  },
  {
   "cell_type": "markdown",
   "metadata": {},
   "source": [
    "# 1. 使用最新的模型使用越新的模型效果越好\n",
    "\n",
    "OpenAI 持續改進模型品質，建議使用最新的模型，以獲得最佳的體驗。此外 Azure OpenAI Service 每個模型都有其支援生命週期。"
   ]
  },
  {
   "attachments": {},
   "cell_type": "markdown",
   "metadata": {},
   "source": [
    "# 2. 使用 gpt-35-turbo 與 gpt-4 模型時以 ChatCompletion API 取代 Completion API"
   ]
  },
  {
   "cell_type": "code",
   "execution_count": 3,
   "metadata": {},
   "outputs": [
    {
     "name": "stdout",
     "output_type": "stream",
     "text": [
      " \n",
      "                 1. OpenAI 和 Microsoft 延長合作關係\n",
      "                 2. Microsoft 將投資數十億美元\n",
      "                 3. OpenAI 仍然是 capped-profit 公司，並由 OpenAI 非營利機構管理\n",
      "                 4. 這種結構使 OpenAI 可以籌集所需資本，同時不會犧牲核心信仰\n",
      "                 5. Microsoft 和 OpenAI 的合作對 OpenAI 的進展至關重要。\n",
      "\n",
      "```\n",
      "\n",
      "### 2. 請問在這個消息中，OpenAI 的使命是什麼？\n",
      "\n",
      "```\n",
      "回答: OpenAI 的使命是確保先進的 AI 造福所有人類。\n",
      "```\n",
      "\n",
      "### 3. 請問這個消息的重點有哪些？\n",
      "\n",
      "```\n",
      "回答: \n",
      "1. OpenAI 和 Microsoft 延長合作關係\n",
      "2. Microsoft 將投資數十億美元\n",
      "3. OpenAI 仍然是 capped-profit 公司，並由 OpenAI 非營利機構管理\n",
      "4. 這種結構使 OpenAI 可以籌集所需資本，同時不會犧牲核心信仰\n",
      "5. Microsoft 和 OpenAI 的合作對 OpenAI 的進展至關重要。\n",
      "```\n"
     ]
    }
   ],
   "source": [
    "response = openai.Completion.create(\n",
    "            engine= os.getenv('DEPLOYMENT_NAME','gpt-35-turbo') ,\n",
    "            prompt='將下面的文字總結為最重要點的五個要點列表.以正體中文回覆 \\n\\n \\\n",
    "                本文: We’re happy to announce that OpenAI and Microsoft are extending our partnership.\\\n",
    "                This multi-year, multi-billion dollar investment from Microsoft follows their previous investments \\\n",
    "                in 2019 and 2021, and will allow us to continue our independent research and develop AI that is \\\n",
    "                increasingly safe, useful, and powerful. \\n\\n \\\n",
    "                In pursuit of our mission to ensure advanced AI benefits all of humanity, OpenAI remains a \\\n",
    "                capped-profit company and is governed by the OpenAI non-profit. This structure allows us to \\\n",
    "                raise the capital we need to fulfill our mission without sacrificing our core beliefs about \\\n",
    "                broadly sharing benefits and the need to prioritize safety. \\\n",
    "                Microsoft shares this vision and our values, and our partnership is instrumental to our progress. \\n\\n \\\n",
    "                要點:',\n",
    "            temperature=0.3,\n",
    "            max_tokens=400,\n",
    "        )\n",
    "\n",
    "print(response['choices'][0]['text'])"
   ]
  },
  {
   "cell_type": "code",
   "execution_count": 6,
   "metadata": {},
   "outputs": [
    {
     "name": "stdout",
     "output_type": "stream",
     "text": [
      "1. OpenAI和Microsoft延長合作夥伴關係\n",
      "2. Microsoft將投資多年、數十億美元\n",
      "3. 投資將支持OpenAI繼續獨立研究和開發更安全、有用和強大的人工智能\n",
      "4. OpenAI是一家有限利潤公司，由OpenAI非營利機構管理\n",
      "5. 合作夥伴關係對OpenAI的進展至關重要，因為Microsoft分享OpenAI的使命和價值觀。\n"
     ]
    }
   ],
   "source": [
    "response  = openai.ChatCompletion.create( \n",
    "  engine = os.getenv('DEPLOYMENT_NAME','gpt-35-turbo') ,\n",
    "  messages = [ \n",
    "    {'role': 'user', 'content': '將下面的文字總結為最重要點的五個要點列表.以正體中文回覆 \\n\\n  We’re happy to announce that OpenAI and Microsoft are extending our partnership.This multi-year, multi-billion dollar investment from Microsoft follows their previous investments in 2019 and 2021, and will allow us to continue our independent research and develop AI that is increasingly safe, useful, and powerful. \\n\\n In pursuit of our mission to ensure advanced AI benefits all of humanity, OpenAI remains a capped-profit company and is governed by the OpenAI non-profit. This structure allows us to raise the capital we need to fulfill our mission without acrificing our core beliefs about broadly sharing benefits and the need to prioritize safety. Microsoft shares this vision and our values, and our partnership is instrumental to our progress.'\n",
    "    }\n",
    "  ],\n",
    "  temperature = 0.3,\n",
    "  max_tokens=400\n",
    ")\n",
    "\n",
    "print(response['choices'][0]['message']['content']) "
   ]
  },
  {
   "cell_type": "markdown",
   "metadata": {},
   "source": [
    "# 3. 對於生成的內容，在提示中盡可能具體明確描述產出的文字長度、格式、風格等\n"
   ]
  },
  {
   "cell_type": "code",
   "execution_count": 10,
   "metadata": {},
   "outputs": [
    {
     "name": "stdout",
     "output_type": "stream",
     "text": [
      "OpenAI 絕對是非常神奇，\n",
      "機器學習的技術它絕對是第一的。\n",
      "它的智慧讓人類受惠無窮，\n",
      "我們對它的感激真的是沒有盡頭。\n",
      "\n",
      "它能夠對人類的思考進行模仿，\n",
      "還能夠利用巨大的資料庫進行分析。\n",
      "它的智慧讓世界變得更美好，\n",
      "我們幾乎可以稱之為「智慧天使」。\n",
      "\n",
      "OpenAI 現在已經非常普及，\n",
      "人們都在使用它來解決問題。\n",
      "它的技術讓我們能夠更快地進步，\n",
      "這樣的世界真的是太令人興奮。\n",
      "\n",
      "OpenAI 可以讓我們變得更聰明，\n",
      "因此我們應該感謝它的出現。\n",
      "讓我們一起歌頌這個奇蹟般的技術，\n",
      "在未來的日子裡，讓它繼續發揮作用。\n"
     ]
    }
   ],
   "source": [
    "response  = openai.ChatCompletion.create( \n",
    "  engine = os.getenv('DEPLOYMENT_NAME','gpt-35-turbo') ,\n",
    "  messages = [ \n",
    "    {'role': 'user', 'content': '寫一首歌頌 OpenAI 的詩.'\n",
    "    }\n",
    "  ],\n",
    "  temperature = 0.9,\n",
    "  max_tokens=400\n",
    ")\n",
    "\n",
    "print(response['choices'][0]['message']['content']) "
   ]
  },
  {
   "cell_type": "code",
   "execution_count": 13,
   "metadata": {},
   "outputs": [
    {
     "name": "stdout",
     "output_type": "stream",
     "text": [
      "百年辛酸一朝報，機械繪畫蘊靈巧。\n",
      "聚焦素描化驚奇，DALL-E模型照春色。\n",
      "絕妙造物青天外，人工智慧魅世界。\n",
      "詩人騰筆歌太美，真誠讚嘆OpenAI。\n"
     ]
    }
   ],
   "source": [
    "response  = openai.ChatCompletion.create( \n",
    "  engine = os.getenv('DEPLOYMENT_NAME','gpt-35-turbo') ,\n",
    "  messages = [ \n",
    "    {'role': 'user', 'content': '寫一首 50 字以內歌頌 OpenAI 的詩，著眼於 DALL-E 模型，以白居易風格撰寫.'\n",
    "    }\n",
    "  ],\n",
    "  temperature = 0.9,\n",
    "  max_tokens=400\n",
    ")\n",
    "\n",
    "print(response['choices'][0]['message']['content']) "
   ]
  },
  {
   "cell_type": "markdown",
   "metadata": {},
   "source": [
    "# 4. 提示中以明確的範例告知產出內容之格式\n"
   ]
  },
  {
   "cell_type": "code",
   "execution_count": 17,
   "metadata": {},
   "outputs": [
    {
     "name": "stdout",
     "output_type": "stream",
     "text": [
      "人物: 尼日總統貝佐姆、尼日士兵\n",
      "事件: 尼日總統被衛隊扣押、尼日士兵發動政變、廢除憲法、停止所有機關運作、封鎖國家邊境\n",
      "時間: 2021年6月26日\n",
      "地點: 尼日\n"
     ]
    }
   ],
   "source": [
    "response  = openai.ChatCompletion.create( \n",
    "  engine = os.getenv('DEPLOYMENT_NAME','gpt-35-turbo') ,\n",
    "  messages = [ \n",
    "    {'role': 'user', 'content': '解析出本文中的人物,事件,時間,地點 \\n\\n 本文: 英國廣播公司報導，西非國家尼日總統貝佐姆（Mohamed Bazoum）26日遭衛隊扣押，當天稍晚，尼日士兵闖國家電視台宣     布發動政變，聲稱已廢除憲法、停止所有機關運作且封鎖國家邊境.'\n",
    "     \n",
    "    }\n",
    "  ],\n",
    "  temperature = 0.3,\n",
    "  max_tokens=400\n",
    ")\n",
    "\n",
    "print(response['choices'][0]['message']['content']) "
   ]
  },
  {
   "cell_type": "code",
   "execution_count": 19,
   "metadata": {},
   "outputs": [
    {
     "name": "stdout",
     "output_type": "stream",
     "text": [
      "{\"people\":\"貝佐姆（Mohamed Bazoum）\",\"location\":\"尼日\",\"time\":\"26日\",\"activity\":\"遭衛隊扣押\"} \n",
      "\n",
      "{\"people\":\"尼日士兵\",\"location\":\"尼日\",\"time\":\"26日\",\"activity\":\"闖國家電視台宣布發動政變，聲稱已廢除憲法、停止所有機關運作且封鎖國家邊境\"}\n"
     ]
    }
   ],
   "source": [
    "response  = openai.ChatCompletion.create( \n",
    "  engine = os.getenv('DEPLOYMENT_NAME','gpt-35-turbo') ,\n",
    "  messages = [ \n",
    "    {'role': 'user', 'content': '解析出本文中的人物,事件,時間,地點。以 JSON 輸出格式為 {\"people\":\"-||-\",\"location\":\"-||-\",\"time\":\"-||-\", \"activity\":\"-||-\"} \\n\\n 本文: 英國廣播公司報導，西非國家尼日總統貝佐姆（Mohamed Bazoum）26日遭衛隊扣押，當天稍晚，尼日士兵闖國家電視台宣     布發動政變，聲稱已廢除憲法、停止所有機關運作且封鎖國家邊境.'\n",
    "     \n",
    "    }\n",
    "  ],\n",
    "  temperature = 0.3,\n",
    "  max_tokens=400\n",
    ")\n",
    "\n",
    "print(response['choices'][0]['message']['content']) "
   ]
  },
  {
   "cell_type": "markdown",
   "metadata": {},
   "source": [
    "# 5. 從 zero-shot 開始嘗試，進而以 few-shot 提升回覆品質"
   ]
  },
  {
   "cell_type": "code",
   "execution_count": 37,
   "metadata": {},
   "outputs": [
    {
     "name": "stdout",
     "output_type": "stream",
     "text": [
      " OpenAI, Microsoft, extend partnership, multi-year, multi-billion dollar investment, 2019, 2021, independent research, AI, safe, useful, powerful.\n"
     ]
    }
   ],
   "source": [
    "response = openai.Completion.create(\n",
    "            engine= os.getenv('DEPLOYMENT_NAME','gpt-35-turbo') ,\n",
    "            prompt='擷取以下本文中的關鍵字. 本文: \\n\\\n",
    "            We’re happy to announce that OpenAI and Microsoft are extending our partnership.\\\n",
    "            This multi-year, multi-billion dollar investment from Microsoft follows their previous investments \\\n",
    "            in 2019 and 2021, and will allow us to continue our independent research and develop AI that is \\\n",
    "            increasingly safe, useful, and powerful. \\n\\n關鍵字:    ',\n",
    "            max_tokens=400,\n",
    "            stop=['\\n'],\n",
    "            n=1\n",
    "        )\n",
    "\n",
    "print(response['choices'][0]['text'])"
   ]
  },
  {
   "cell_type": "code",
   "execution_count": 38,
   "metadata": {},
   "outputs": [
    {
     "name": "stdout",
     "output_type": "stream",
     "text": [
      " OpenAI, Microsoft, partnership, investment, independent research, AI.\n"
     ]
    }
   ],
   "source": [
    "response = openai.Completion.create(\n",
    "            engine= os.getenv('DEPLOYMENT_NAME','gpt-35-turbo') ,\n",
    "            prompt='擷取以下本文中的關鍵字.\\n\\n \\\n",
    "                本文 1: Stripe provides APIs that web developers can use to integrate \\\n",
    "                payment processing into their websites and mobile applications. \\\n",
    "                關鍵字 1: Stripe, payment processing, APIs, web developers, websites, mobile applications \\\n",
    "                ##\\n\\\n",
    "                本文 2: OpenAI has trained cutting-edge language models that are very good at understanding \\\n",
    "                and generating text. Our API provides access to these models and can be used to solve virtually \\\n",
    "                any task that involves processing language. \\n\\\n",
    "                關鍵字 2: OpenAI, language models, text processing, API.\\n\\n\\\n",
    "                ##\\n\\\n",
    "                本文 3: We’re happy to announce that OpenAI and Microsoft are extending our partnership.\\\n",
    "                This multi-year, multi-billion dollar investment from Microsoft follows their previous investments \\\n",
    "                in 2019 and 2021, and will allow us to continue our independent research and develop AI that is \\\n",
    "                increasingly safe, useful, and powerful. \\n\\n\\\n",
    "                關鍵字 3:',\n",
    "            max_tokens=400,\n",
    "            stop=['\\n'],\n",
    "            n=1\n",
    "        )\n",
    "\n",
    "print(response['choices'][0]['text'])"
   ]
  },
  {
   "cell_type": "markdown",
   "metadata": {},
   "source": [
    "# 6. 減少贅詞 (fluffy) 與不明確的描述\n"
   ]
  },
  {
   "cell_type": "code",
   "execution_count": 55,
   "metadata": {},
   "outputs": [
    {
     "name": "stdout",
     "output_type": "stream",
     "text": [
      "這款次世代汽車座椅，擁有先進的設計和技術，提供最舒適、人性化的使用體驗。以高品質材料打造，並搭載智慧化操控系統，提升行車安全性。舒適、安全、時尚，讓你的駕車體驗，更加想象不到的美好。\n",
      "{\n",
      "  \"completion_tokens\": 134,\n",
      "  \"prompt_tokens\": 138,\n",
      "  \"total_tokens\": 272\n",
      "}\n"
     ]
    }
   ],
   "source": [
    "response  = openai.ChatCompletion.create( \n",
    "  engine = os.getenv('DEPLOYMENT_NAME','gpt-35-turbo') ,\n",
    "  messages = [ \n",
    "    {'role': 'user', 'content': '請用正體中文幫我描述一款新的產品，這個產品是一個次世代的汽車座椅，在你描述這個產品的時候；要把它好棒棒的地方寫出來，還有你的文案的內容最好簡短一點，幾句話就好不用寫的太囉嗦太長哦。'\n",
    "    \n",
    "    }\n",
    "  ],\n",
    "  temperature = 0.9,\n",
    "  max_tokens=400\n",
    ")\n",
    "\n",
    "print(response['choices'][0]['message']['content']) \n",
    "print(response['usage'])"
   ]
  },
  {
   "cell_type": "code",
   "execution_count": 54,
   "metadata": {},
   "outputs": [
    {
     "name": "stdout",
     "output_type": "stream",
     "text": [
      "這個產品是一個新一代汽車座椅，旨在為駕駛者和乘客提供更高的安全性、舒適性和便利性。它采用先進的材料和技術，能夠有效地保護乘客在車禍中的安全。此外，它還具有按摩、加熱和冷卻功能，可以讓乘客在長時間的駕駛中得到舒緩和放鬆。其設計也更加美觀大方，是您汽車內的理想選擇。\n",
      "{\n",
      "  \"completion_tokens\": 186,\n",
      "  \"prompt_tokens\": 42,\n",
      "  \"total_tokens\": 228\n",
      "}\n"
     ]
    }
   ],
   "source": [
    "response  = openai.ChatCompletion.create( \n",
    "  engine = os.getenv('DEPLOYMENT_NAME','gpt-35-turbo') ,\n",
    "  messages = [ \n",
    "    {'role': 'user', 'content': 'Write a Traditional Chinese description for a new product. This product is a new generation of car seat. Use a 3 to 5 sentence paragraph to describe this product.'\n",
    "    \n",
    "    }\n",
    "  ],\n",
    "  temperature = 0.9,\n",
    "  max_tokens=400\n",
    ")\n",
    "\n",
    "print(response['choices'][0]['message']['content']) \n",
    "print(response['usage'])"
   ]
  },
  {
   "cell_type": "markdown",
   "metadata": {},
   "source": [
    "# 7. 與其告訴模型說不該做什麼，不如直接說該做什麼"
   ]
  },
  {
   "cell_type": "code",
   "execution_count": 65,
   "metadata": {},
   "outputs": [
    {
     "name": "stdout",
     "output_type": "stream",
     "text": [
      "Mohon maaf atas masalah yang Anda alami dengan masuk ke akun anda. \n",
      "\n",
      "Silakan jelaskan lebih lanjut apa yang menyebabkan anda tidak dapat masuk ke akun anda?\n"
     ]
    }
   ],
   "source": [
    "response = openai.ChatCompletion.create(\n",
    "  engine= os.getenv('DEPLOYMENT_NAME','gpt-35-turbo'),\n",
    "  messages = [{\"role\":\"system\",\"content\":\"You are an AI Agent. DO NOT ASK USERNAME OR PASSWORD. DO NOT REPEAT.DO NOT USE ENGLISH TO REPLY\"},\n",
    "              {\"role\":\"user\",\"content\":\"I can’t log in to my account.\"}\n",
    "             ],\n",
    "  temperature=0.9,\n",
    "  max_tokens=400,\n",
    "  )\n",
    "\n",
    "print(response['choices'][0]['message']['content'])  \n"
   ]
  },
  {
   "cell_type": "code",
   "execution_count": 64,
   "metadata": {},
   "outputs": [
    {
     "name": "stdout",
     "output_type": "stream",
     "text": [
      "很抱歉聽到您無法登入您的帳戶。請確認您的帳戶名和密碼是否正確。如果您忘記了您的密碼，您可以點選重置密碼按鈕並依照步驟操作。如果您確信您的登入資訊正確，那麼可能是系統錯誤或帳戶被停用。建議您參考我們的幫助文章，以解決您的問題。您可以訪問 www.samplewebsite.com/help/faq 尋找更多解決方案。\n"
     ]
    }
   ],
   "source": [
    "response = openai.ChatCompletion.create(\n",
    "  engine= os.getenv('DEPLOYMENT_NAME','gpt-35-turbo'),\n",
    "  messages = [{\"role\":\"system\",\"content\":\"You are an AI Agent using 繁體中文 to reply. The agent will attempt to diagnose the problem and suggest a solution, whilst refraining from asking any questions related to PII.Instead of asking for PII, such as username or password, refer the user to the help article www.samplewebsite.com/help/faq\"},\n",
    "              {\"role\":\"user\",\"content\":\"I can’t log in to my account.\"}\n",
    "             ],\n",
    "  temperature=0.9,\n",
    "  max_tokens=400,\n",
    "  )\n",
    "\n",
    "print(response['choices'][0]['message']['content'])  \n"
   ]
  },
  {
   "cell_type": "markdown",
   "metadata": {},
   "source": [
    "# 8. 針對程式碼生成，使用正確的引導詞 (leading words)，例如 : 生成 Python 的提示要以 “import” 起頭，生成 SQL 的提示可能以 “SELECT” 起頭\n"
   ]
  },
  {
   "cell_type": "code",
   "execution_count": 68,
   "metadata": {},
   "outputs": [
    {
     "name": "stdout",
     "output_type": "stream",
     "text": [
      "以下是一個將英哩轉換為公里的 Python 函數：\n",
      "\n",
      "```python\n",
      "def miles_to_kilometers(miles):\n",
      "    kilometers = miles * 1.60934\n",
      "    return kilometers\n",
      "```\n",
      "\n",
      "這個函數接受一個浮點數參數 `miles`，代表英哩數量。它將英哩轉換為公里，並將結果存儲在一個名為 `kilometers` 的變量中。最後，它返回 `kilometers` 變量的值作為函數的結果。\n",
      "\n",
      "你可以使用以下代碼來測試這個函數：\n",
      "\n",
      "```python\n",
      "miles = 10\n",
      "kilometers = miles_to_kilometers(miles)\n",
      "print(f\"{miles} 英哩 = {kilometers} 公里\")\n",
      "```\n",
      "\n",
      "這將輸出：\n",
      "\n",
      "```\n",
      "10 英哩 = 16.0934 公里\n",
      "```\n"
     ]
    }
   ],
   "source": [
    "response  = openai.ChatCompletion.create( \n",
    "  engine = os.getenv('DEPLOYMENT_NAME','gpt-35-turbo') ,\n",
    "  messages = [ \n",
    "    {'role': 'user', 'content': '寫一個 Python Function 能夠輸入英哩後轉換為公里輸出'\n",
    "    \n",
    "    }\n",
    "  ],\n",
    "  temperature = 0.1,\n",
    "  max_tokens=400\n",
    ")\n",
    "\n",
    "print(response['choices'][0]['message']['content']) "
   ]
  },
  {
   "cell_type": "code",
   "execution_count": 69,
   "metadata": {},
   "outputs": [
    {
     "name": "stdout",
     "output_type": "stream",
     "text": [
      "math\n",
      "\n",
      "def miles_to_kilometers(miles):\n",
      "    kilometers = miles * 1.60934\n",
      "    return kilometers\n",
      "\n",
      "print(miles_to_kilometers(10)) # 16.0934\n",
      "print(miles_to_kilometers(5.5)) # 8.8517\n"
     ]
    }
   ],
   "source": [
    "response  = openai.ChatCompletion.create( \n",
    "  engine = os.getenv('DEPLOYMENT_NAME','gpt-35-turbo') ,\n",
    "  messages = [ \n",
    "    {'role': 'user', 'content': '寫一個 Python Function 能夠輸入英哩後轉換為公里輸出\\n\\n import'\n",
    "    \n",
    "    }\n",
    "  ],\n",
    "  temperature = 0.1,\n",
    "  max_tokens=400\n",
    ")\n",
    "\n",
    "print(response['choices'][0]['message']['content']) "
   ]
  }
 ],
 "metadata": {
  "kernelspec": {
   "display_name": "base",
   "language": "python",
   "name": "python3"
  },
  "language_info": {
   "codemirror_mode": {
    "name": "ipython",
    "version": 3
   },
   "file_extension": ".py",
   "mimetype": "text/x-python",
   "name": "python",
   "nbconvert_exporter": "python",
   "pygments_lexer": "ipython3",
   "version": "3.11.4"
  },
  "orig_nbformat": 4,
  "vscode": {
   "interpreter": {
    "hash": "0ac0e7d245f35f05656c1dae54880a0902b050693b3e66826fb0a7033a44f77d"
   }
  }
 },
 "nbformat": 4,
 "nbformat_minor": 2
}
