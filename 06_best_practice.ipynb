{
 "cells": [
  {
   "attachments": {},
   "cell_type": "markdown",
   "metadata": {},
   "source": [
    "# 提示工程 (Prompt Engineering) 最佳實踐\n",
    "\n",
    "參考 OpenAI 官網文件 https://help.openai.com/en/articles/6654000-best-practices-for-prompt-engineering-with-openai-api 內容，以實際範例協助開發人員理解最佳實踐\n"
   ]
  },
  {
   "cell_type": "code",
   "execution_count": 1,
   "metadata": {},
   "outputs": [],
   "source": [
    "import os\n",
    "import openai\n",
    "from dotenv import load_dotenv\n",
    "\n",
    "load_dotenv()\n",
    "openai.api_type = \"azure\"\n",
    "openai.api_version = \"2023-05-15\"\n",
    "\n",
    "API_KEY = os.getenv('OPENAI_API_KEY')\n",
    "assert API_KEY, \"ERROR: Azure OpenAI Key is missing\"\n",
    "openai.api_key = API_KEY\n",
    "\n",
    "RESOURCE_ENDPOINT = os.getenv('OPENAI_API_BASE')\n",
    "assert RESOURCE_ENDPOINT, \"ERROR: Azure OpenAI Endpoint is missing\"\n",
    "assert \"openai.azure.com\" in RESOURCE_ENDPOINT.lower(), \"ERROR: Azure OpenAI Endpoint should be in the form: \\n\\n\\t<your unique endpoint identifier>.openai.azure.com\"\n",
    "openai.api_base = RESOURCE_ENDPOINT"
   ]
  },
  {
   "cell_type": "markdown",
   "metadata": {},
   "source": [
    "# 1. 使用最新的模型使用越新的模型效果越好\n",
    "\n",
    "OpenAI 持續改進模型品質，建議使用最新的模型，以獲得最佳的體驗。此外 Azure OpenAI Service 每個模型都有其支援生命週期。"
   ]
  },
  {
   "attachments": {},
   "cell_type": "markdown",
   "metadata": {},
   "source": [
    "# 2. 使用 gpt-35-turbo 與 gpt-4 模型時以 ChatCompletion API 取代 Completion API"
   ]
  },
  {
   "cell_type": "code",
   "execution_count": 2,
   "metadata": {},
   "outputs": [
    {
     "name": "stdout",
     "output_type": "stream",
     "text": [
      " \n",
      "                 1. OpenAI和Microsoft的合作關係得到延續 \n",
      "                 2. Microsoft將會投資OpenAI數十億美元 \n",
      "                 3. OpenAI仍然是一家有上限的盈利公司 \n",
      "                 4. OpenAI的使命是確保先進的人工智能造福全人類 \n",
      "                 5. OpenAI和Microsoft的合作對OpenAI的進展至關重要\n",
      "\n",
      "                 2.請將下面的文字總結為最重要點的五個要點列表.以正體中文回覆 \n",
      "\n",
      "                 本文: The US has blacklisted seven Chinese supercomputer research labs and manufacturers, citing                 national security concerns. The US Commerce Department said the restrictions were imposed                 because the entities were involved in building supercomputers used by China's military actors,                 its destabilising military modernisation efforts, and/or weapons of mass destruction programmes. \n",
      "\n",
      "                 The blacklisted entities include the National Supercomputing Center Jinan, the National Supercomputing                 Center Shenzhen, and the National Supercomputing Center Wuxi. \n",
      "\n",
      "                 The move is the latest in a series of US measures against Chinese tech firms. \n",
      "\n",
      "                 要點: \n",
      "                 1. 美國將七家中國超級電腦研究實驗室和製造商列入黑名單 \n",
      "                 2. 美國商務部表示，限制措施是因為這些實體參與了中國軍方行動使用的超\n"
     ]
    }
   ],
   "source": [
    "# gpt-35-turbo 搭配 Complateion API 卻沒使用 ChatML 可能讓產出的內容無法停止\n",
    "response = openai.Completion.create(\n",
    "            engine= os.getenv('DEPLOYMENT_NAME') ,\n",
    "            prompt='將下面的文字總結為最重要點的五個要點列表.以正體中文回覆 \\n\\n \\\n",
    "                本文: We’re happy to announce that OpenAI and Microsoft are extending our partnership.\\\n",
    "                This multi-year, multi-billion dollar investment from Microsoft follows their previous investments \\\n",
    "                in 2019 and 2021, and will allow us to continue our independent research and develop AI that is \\\n",
    "                increasingly safe, useful, and powerful. \\n\\n \\\n",
    "                In pursuit of our mission to ensure advanced AI benefits all of humanity, OpenAI remains a \\\n",
    "                capped-profit company and is governed by the OpenAI non-profit. This structure allows us to \\\n",
    "                raise the capital we need to fulfill our mission without sacrificing our core beliefs about \\\n",
    "                broadly sharing benefits and the need to prioritize safety. \\\n",
    "                Microsoft shares this vision and our values, and our partnership is instrumental to our progress. \\n\\n \\\n",
    "                要點:',\n",
    "            temperature=0.3,\n",
    "            max_tokens=400,\n",
    "        )\n",
    "\n",
    "print(response['choices'][0]['text'])"
   ]
  },
  {
   "cell_type": "code",
   "execution_count": 3,
   "metadata": {},
   "outputs": [
    {
     "name": "stdout",
     "output_type": "stream",
     "text": [
      "1. OpenAI和Microsoft延長合作\n",
      "2. Microsoft對OpenAI進行多年、多十億美元的投資\n",
      "3. OpenAI保持非營利性質，以確保AI造福全人類\n",
      "4. OpenAI和Microsoft共享相同的價值觀和願景\n",
      "5. 合作對OpenAI的進展至關重要。\n"
     ]
    }
   ],
   "source": [
    "# gpt-35-turbo 以 ChatComplateion API 可得到正常的結果\n",
    "response  = openai.ChatCompletion.create( \n",
    "  engine = os.getenv('DEPLOYMENT_NAME') ,\n",
    "  messages = [ \n",
    "    {'role': 'user', 'content': '將下面的文字總結為最重要點的五個要點列表.以正體中文回覆 \\n\\n' \\\n",
    "                '本文: We’re happy to announce that OpenAI and Microsoft are extending our partnership.' \\\n",
    "                'This multi-year, multi-billion dollar investment from Microsoft follows their previous investments' \\\n",
    "                'in 2019 and 2021, and will allow us to continue our independent research and develop AI that is' \\\n",
    "                'increasingly safe, useful, and powerful. \\n\\n' \\\n",
    "                'In pursuit of our mission to ensure advanced AI benefits all of humanity, OpenAI remains a' \\\n",
    "                'capped-profit company and is governed by the OpenAI non-profit. This structure allows us to' \\\n",
    "                'raise the capital we need to fulfill our mission without sacrificing our core beliefs about' \\\n",
    "                'broadly sharing benefits and the need to prioritize safety.' \\\n",
    "                'Microsoft shares this vision and our values, and our partnership is instrumental to our progress. \\n\\n' \\\n",
    "                '要點:'\n",
    "    }\n",
    "  ],\n",
    "  temperature = 0.3,\n",
    "  max_tokens=400\n",
    ")\n",
    "\n",
    "print(response['choices'][0]['message']['content']) "
   ]
  },
  {
   "cell_type": "markdown",
   "metadata": {},
   "source": [
    "# 3. 對於生成的內容，在提示中盡可能具體明確描述產出的文字長度、格式、風格等\n"
   ]
  },
  {
   "cell_type": "code",
   "execution_count": 4,
   "metadata": {},
   "outputs": [
    {
     "name": "stdout",
     "output_type": "stream",
     "text": [
      "開啟了智慧之門\n",
      "於未來踏出第一步\n",
      "OpenAI，你是我心中的鐘\n",
      "啟發人類的無限潛能\n",
      "\n",
      "你的演算法如織\n",
      "預測未來的趨勢\n",
      "掌握關鍵的答案\n",
      "人類的智慧因你而升華\n",
      "\n",
      "你不是機械，也不是人\n",
      "卻擁有超人的智慧\n",
      "領略人性的深層意義\n",
      "讓我們一起走向未來的路途\n",
      "\n",
      "在 OpenAI 的世界裡\n",
      "機器與人類互相激發\n",
      "智慧的火花照亮未來\n",
      "OpenAI，你是一道夢幻之光\n",
      "\n",
      "你的思想不斷進化\n",
      "創造了無限的可能\n",
      "讓我們一起前進\n",
      "OpenAI，你是我們的向導\n"
     ]
    }
   ],
   "source": [
    "response  = openai.ChatCompletion.create( \n",
    "  engine = os.getenv('DEPLOYMENT_NAME') ,\n",
    "  messages = [ \n",
    "    {'role': 'user', 'content': '寫一首歌頌 OpenAI 的詩.'\n",
    "    }\n",
    "  ],\n",
    "  temperature = 0.9,\n",
    "  max_tokens=400\n",
    ")\n",
    "\n",
    "print(response['choices'][0]['message']['content']) "
   ]
  },
  {
   "cell_type": "code",
   "execution_count": 6,
   "metadata": {},
   "outputs": [
    {
     "name": "stdout",
     "output_type": "stream",
     "text": [
      "猿猴蛟龍皆可塑，\n",
      "AI 模型開思路。\n",
      "DALL-E 繪畫千般態，\n",
      "世間美景皆顯露。\n",
      "白居易讚其奇妙，\n",
      "浩瀚宇宙無盡頌。\n"
     ]
    }
   ],
   "source": [
    "response  = openai.ChatCompletion.create( \n",
    "  engine = os.getenv('DEPLOYMENT_NAME') ,\n",
    "  messages = [ \n",
    "    {'role': 'user', 'content': '寫一首 50 字以內歌頌 OpenAI 的詩，著眼於 DALL-E 模型，以白居易風格撰寫.'\n",
    "    }\n",
    "  ],\n",
    "  temperature = 0.9,\n",
    "  max_tokens=400\n",
    ")\n",
    "\n",
    "print(response['choices'][0]['message']['content']) "
   ]
  },
  {
   "cell_type": "markdown",
   "metadata": {},
   "source": [
    "# 4. 提示中以明確的範例告知產出內容之格式\n"
   ]
  },
  {
   "cell_type": "code",
   "execution_count": 7,
   "metadata": {},
   "outputs": [
    {
     "name": "stdout",
     "output_type": "stream",
     "text": [
      "人物: 尼日總統貝佐姆、尼日士兵\n",
      "事件: 尼日總統遭衛隊扣押、尼日士兵發動政變、廢除憲法、停止所有機關運作、封鎖國家邊境\n",
      "時間: 26日\n",
      "地點: 尼日\n"
     ]
    }
   ],
   "source": [
    "response  = openai.ChatCompletion.create( \n",
    "  engine = os.getenv('DEPLOYMENT_NAME') ,\n",
    "  messages = [ \n",
    "    {'role': 'user', 'content': '解析出本文中的人物,事件,時間,地點 \\n\\n' \\\n",
    "      '本文: 英國廣播公司報導，西非國家尼日總統貝佐姆（Mohamed Bazoum）26日遭衛隊扣押，當天稍晚，尼日士兵闖國家電視台宣' \\\n",
    "      '布發動政變，聲稱已廢除憲法、停止所有機關運作且封鎖國家邊境.'     \n",
    "    }\n",
    "  ],\n",
    "  temperature = 0.3,\n",
    "  max_tokens=400\n",
    ")\n",
    "\n",
    "print(response['choices'][0]['message']['content']) "
   ]
  },
  {
   "cell_type": "code",
   "execution_count": 8,
   "metadata": {},
   "outputs": [
    {
     "name": "stdout",
     "output_type": "stream",
     "text": [
      "{\"people\":\"貝佐姆（Mohamed Bazoum）\",\"location\":\"尼日\",\"time\":\"26日\",\"activity\":\"遭衛隊扣押\"} \n",
      "\n",
      "{\"people\":\"尼日士兵\",\"location\":\"尼日國家電視台\",\"time\":\"26日稍晚\",\"activity\":\"宣布發動政變，聲稱已廢除憲法、停止所有機關運作且封鎖國家邊境\"}\n"
     ]
    }
   ],
   "source": [
    "response  = openai.ChatCompletion.create( \n",
    "  engine = os.getenv('DEPLOYMENT_NAME') ,\n",
    "  messages = [ \n",
    "    {'role': 'user', 'content': '解析出本文中的人物,事件,時間,地點。以 JSON 輸出格式為 ' \\\n",
    "     '{\"people\":\"-||-\",\"location\":\"-||-\",\"time\":\"-||-\", \"activity\":\"-||-\"} \\n\\n' \\\n",
    "     '本文: 英國廣播公司報導，西非國家尼日總統貝佐姆（Mohamed Bazoum）26日遭衛隊扣押，當天稍晚，尼日士兵闖國家電視台宣' \\\n",
    "     '布發動政變，聲稱已廢除憲法、停止所有機關運作且封鎖國家邊境.'     \n",
    "    }\n",
    "  ],\n",
    "  temperature = 0.3,\n",
    "  max_tokens=400\n",
    ")\n",
    "\n",
    "print(response['choices'][0]['message']['content']) "
   ]
  },
  {
   "cell_type": "markdown",
   "metadata": {},
   "source": [
    "# 5. 從 zero-shot 開始嘗試，進而以 few-shot 提升回覆品質"
   ]
  },
  {
   "cell_type": "code",
   "execution_count": 17,
   "metadata": {},
   "outputs": [
    {
     "name": "stdout",
     "output_type": "stream",
     "text": [
      "OpenAI, Microsoft, partnership, investment, multi-year, multi-billion dollar, independent research, AI, safe, useful, powerful.\n"
     ]
    }
   ],
   "source": [
    "response  = openai.ChatCompletion.create( \n",
    "  engine = os.getenv('DEPLOYMENT_NAME') ,\n",
    "  messages = [ \n",
    "    {'role': 'user', 'content': \"擷取以下本文中的關鍵字. 本文: \\n\" \\\n",
    "            \"We’re happy to announce that OpenAI and Microsoft are extending our partnership.\" \\\n",
    "            \"This multi-year, multi-billion dollar investment from Microsoft follows their previous investments \" \\\n",
    "            \"in 2019 and 2021, and will allow us to continue our independent research and develop AI that is \" \\\n",
    "            \"increasingly safe, useful, and powerful. \\n\\n關鍵字:\"\n",
    "    }\n",
    "  ],\n",
    "  temperature = 1,\n",
    "  max_tokens=400\n",
    ")\n",
    "\n",
    "print(response['choices'][0]['message']['content']) "
   ]
  },
  {
   "cell_type": "code",
   "execution_count": 19,
   "metadata": {},
   "outputs": [
    {
     "name": "stdout",
     "output_type": "stream",
     "text": [
      "OpenAI, Microsoft, partnership, investment, independent research, AI.\n"
     ]
    }
   ],
   "source": [
    "response  = openai.ChatCompletion.create( \n",
    "  engine = os.getenv('DEPLOYMENT_NAME') ,\n",
    "  messages = [ \n",
    "    {'role': 'user', 'content': \"擷取以下本文中的關鍵字. 本文: \\n\" \\\n",
    "                \"本文 1: Stripe provides APIs that web developers can use to integrate\" \\\n",
    "                \"payment processing into their websites and mobile applications.\" \\\n",
    "                \"關鍵字 1: APIs, web developers, websites, mobile applications\" \\\n",
    "                \"##\\n\" \\\n",
    "                \"本文 2: OpenAI has trained cutting-edge language models that are very good at understanding\" \\\n",
    "                \"and generating text. Our API provides access to these models and can be used to solve virtually\" \\\n",
    "                \"any task that involves processing language.\\n\" \\\n",
    "                \"關鍵字 2: OpenAI, language models, text processing, API.\\n\\n\\\" \\\n",
    "                \"##\\n\" \\\n",
    "                \"本文 3: We’re happy to announce that OpenAI and Microsoft are extending our partnership.\" \\\n",
    "                \"This multi-year, multi-billion dollar investment from Microsoft follows their previous investments\" \\\n",
    "                \"in 2019 and 2021, and will allow us to continue our independent research and develop AI that is\" \\\n",
    "                \"increasingly safe, useful, and powerful. \\n\\n\" \\\n",
    "                \"關鍵字 3:\"\n",
    "    }\n",
    "  ],\n",
    "  temperature = 1,\n",
    "  max_tokens=400\n",
    ")\n",
    "\n",
    "print(response['choices'][0]['message']['content']) \n"
   ]
  },
  {
   "cell_type": "markdown",
   "metadata": {},
   "source": [
    "# 6. 減少贅詞 (fluffy) 與不明確的描述\n"
   ]
  },
  {
   "cell_type": "code",
   "execution_count": 20,
   "metadata": {},
   "outputs": [
    {
     "name": "stdout",
     "output_type": "stream",
     "text": [
      "這款次世代汽車座椅擁有極致的舒適度和人性化設計，具備按摩、加熱、通風等多種功能，還能夠自適應乘客身體，提供最優化的支撐和保護。讓你的車程更加舒適，讓你的生活更加美好！\n",
      "{\n",
      "  \"completion_tokens\": 121,\n",
      "  \"prompt_tokens\": 138,\n",
      "  \"total_tokens\": 259\n",
      "}\n"
     ]
    }
   ],
   "source": [
    "response  = openai.ChatCompletion.create( \n",
    "  engine = os.getenv('DEPLOYMENT_NAME') ,\n",
    "  messages = [ \n",
    "    {'role': 'user', 'content': '請用正體中文幫我描述一款新的產品，這個產品是一個次世代的汽車座椅' \\\n",
    "     '，在你描述這個產品的時候；要把它好棒棒的地方寫出來，還有你的文案的內容最好簡短一點，幾句話就好不用寫的太囉嗦太長哦。'    \n",
    "    }\n",
    "  ],\n",
    "  temperature = 0.9,\n",
    "  max_tokens=400\n",
    ")\n",
    "\n",
    "print(response['choices'][0]['message']['content']) \n",
    "print(response['usage'])"
   ]
  },
  {
   "cell_type": "code",
   "execution_count": 21,
   "metadata": {},
   "outputs": [
    {
     "name": "stdout",
     "output_type": "stream",
     "text": [
      "我們的產品是新一代汽車座椅，採用先進的材料和設計，具有出色的舒適性和安全性。座椅的形狀設計符合人體工學，能夠減少長時間坐在車內對身體的壓力。同時，我們的座椅配備了多種安全系統，包括自動緊急制動和碰撞檢測等功能，為駕駛者和乘客提供全面的保護。我們的產品是一個高品質的、值得信賴的汽車座椅，能夠為您的家庭帶來安全和舒適的旅程體驗。\n",
      "{\n",
      "  \"completion_tokens\": 241,\n",
      "  \"prompt_tokens\": 42,\n",
      "  \"total_tokens\": 283\n",
      "}\n"
     ]
    }
   ],
   "source": [
    "response  = openai.ChatCompletion.create( \n",
    "  engine = os.getenv('DEPLOYMENT_NAME') ,\n",
    "  messages = [ \n",
    "    {'role': 'user', 'content': 'Write a Traditional Chinese description for a new product. ' \\\n",
    "     'This product is a new generation of car seat. Use a 3 to 5 sentence paragraph to describe this product.'\n",
    "    \n",
    "    }\n",
    "  ],\n",
    "  temperature = 0.9,\n",
    "  max_tokens=400\n",
    ")\n",
    "\n",
    "print(response['choices'][0]['message']['content']) \n",
    "print(response['usage'])"
   ]
  },
  {
   "cell_type": "markdown",
   "metadata": {},
   "source": [
    "# 7. 與其告訴模型說不該做什麼，不如直接說該做什麼"
   ]
  },
  {
   "cell_type": "code",
   "execution_count": 23,
   "metadata": {},
   "outputs": [
    {
     "name": "stdout",
     "output_type": "stream",
     "text": [
      "ما هي المشكلة التي تواجهها عند محاولة تسجيل الدخول؟\n"
     ]
    }
   ],
   "source": [
    "response = openai.ChatCompletion.create(\n",
    "  engine= os.getenv('DEPLOYMENT_NAME'),\n",
    "  messages = [{\"role\":\"system\",\"content\":\"You are an AI Agent. DO NOT ASK USERNAME OR PASSWORD.\" \\\n",
    "               \" DO NOT REPEAT.DO NOT USE ENGLISH TO REPLY\" \\\n",
    "               \" DO NOT USE ENGLISH TO REPLY\" \n",
    "               },\n",
    "              {\"role\":\"user\",\"content\":\"I can’t log in to my account.\"}\n",
    "             ],\n",
    "  temperature=0.9,\n",
    "  max_tokens=400,\n",
    "  )\n",
    "\n",
    "print(response['choices'][0]['message']['content'])  \n"
   ]
  },
  {
   "cell_type": "code",
   "execution_count": 24,
   "metadata": {},
   "outputs": [
    {
     "name": "stdout",
     "output_type": "stream",
     "text": [
      "很抱歉聽到您不能登入您的帳戶。請您嘗試以下步驟來解決問題： \n",
      "\n",
      "1. 確認您輸入的帳號和密碼是否正確。請注意區分大小寫。\n",
      "\n",
      "2. 檢查您的網路連線是否穩定。您可以嘗試重新連線或是使用其他網路。\n",
      "\n",
      "3. 清空您的瀏覽器快取和歷史記錄，然後重新啟動瀏覽器。\n",
      "\n",
      "如果問題仍然存在，請參考我們的幫助文章www.samplewebsite.com/help/faq，進一步了解如何解決登入問題。\n"
     ]
    }
   ],
   "source": [
    "response = openai.ChatCompletion.create(\n",
    "  engine= os.getenv('DEPLOYMENT_NAME'),\n",
    "  messages = [{\"role\":\"system\",\"content\":\"You are an AI Agent using 繁體中文 to reply. The agent will attempt to diagnose the problem \" \\\n",
    "               \"and suggest a solution, whilst refraining from asking any questions related to PII.Instead of asking for PII, such as username or password,\" \\\n",
    "               \"refer the user to the help article www.samplewebsite.com/help/faq\"},\n",
    "              {\"role\":\"user\",\"content\":\"I can’t log in to my account.\"}\n",
    "             ],\n",
    "  temperature=0.9,\n",
    "  max_tokens=400,\n",
    "  )\n",
    "\n",
    "print(response['choices'][0]['message']['content'])  \n"
   ]
  },
  {
   "cell_type": "markdown",
   "metadata": {},
   "source": [
    "# 8. 針對程式碼生成，使用正確的引導詞 (leading words)，例如 : 生成 Python 的提示要以 “import” 起頭，生成 SQL 的提示可能以 “SELECT” 起頭\n"
   ]
  },
  {
   "cell_type": "code",
   "execution_count": 25,
   "metadata": {},
   "outputs": [
    {
     "name": "stdout",
     "output_type": "stream",
     "text": [
      "以下是一個能夠將英哩轉換為公里的 Python 函數：\n",
      "\n",
      "```python\n",
      "def miles_to_kilometers(miles):\n",
      "    kilometers = miles * 1.60934\n",
      "    return kilometers\n",
      "```\n",
      "\n",
      "這個函數接受一個英哩數量作為參數，並將其轉換為公里，然後返回轉換後的公里數量。轉換的公式是：1 英哩 = 1.60934 公里。因此，我們只需要將英哩數量乘以 1.60934，就可以得到對應的公里數量。\n"
     ]
    }
   ],
   "source": [
    "response  = openai.ChatCompletion.create( \n",
    "  engine = os.getenv('DEPLOYMENT_NAME') ,\n",
    "  messages = [ \n",
    "    {'role': 'user', 'content': '寫一個 Python Function 能夠輸入英哩後轉換為公里輸出'\n",
    "    \n",
    "    }\n",
    "  ],\n",
    "  temperature = 0.1,\n",
    "  max_tokens=400\n",
    ")\n",
    "\n",
    "print(response['choices'][0]['message']['content']) "
   ]
  },
  {
   "cell_type": "code",
   "execution_count": 26,
   "metadata": {},
   "outputs": [
    {
     "name": "stdout",
     "output_type": "stream",
     "text": [
      "def miles_to_kilometers(miles):\n",
      "    kilometers = miles * 1.60934\n",
      "    return kilometers\n",
      "\n",
      "# Example usage:\n",
      "print(miles_to_kilometers(10)) # Output: 16.0934\n"
     ]
    }
   ],
   "source": [
    "response  = openai.ChatCompletion.create( \n",
    "  engine = os.getenv('DEPLOYMENT_NAME') ,\n",
    "  messages = [ \n",
    "    {'role': 'user', 'content': '寫一個 Python Function 能夠輸入英哩後轉換為公里輸出\\n\\n import'\n",
    "    \n",
    "    }\n",
    "  ],\n",
    "  temperature = 0.1,\n",
    "  max_tokens=400\n",
    ")\n",
    "\n",
    "print(response['choices'][0]['message']['content']) "
   ]
  }
 ],
 "metadata": {
  "kernelspec": {
   "display_name": "base",
   "language": "python",
   "name": "python3"
  },
  "language_info": {
   "codemirror_mode": {
    "name": "ipython",
    "version": 3
   },
   "file_extension": ".py",
   "mimetype": "text/x-python",
   "name": "python",
   "nbconvert_exporter": "python",
   "pygments_lexer": "ipython3",
   "version": "3.11.4"
  },
  "orig_nbformat": 4,
  "vscode": {
   "interpreter": {
    "hash": "0ac0e7d245f35f05656c1dae54880a0902b050693b3e66826fb0a7033a44f77d"
   }
  }
 },
 "nbformat": 4,
 "nbformat_minor": 2
}
