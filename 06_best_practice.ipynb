{
 "cells": [
  {
   "attachments": {},
   "cell_type": "markdown",
   "metadata": {},
   "source": [
    "# 提示工程 (Prompt Engineering) 最佳實踐\n",
    "\n",
    "參考 OpenAI 官網文件 https://help.openai.com/en/articles/6654000-best-practices-for-prompt-engineering-with-openai-api 內容，以實際範例協助開發人員理解最佳實踐\n"
   ]
  },
  {
   "cell_type": "code",
   "execution_count": 3,
   "metadata": {},
   "outputs": [],
   "source": [
    "import os\n",
    "import openai\n",
    "from dotenv import load_dotenv\n",
    "\n",
    "# 載入環境變數\n",
    "load_dotenv()\n",
    "\n",
    "# 設定呼叫 OpenAI API 所需連線資訊\n",
    "openai.api_type = os.getenv(\"OPENAI_API_TYPE\")\n",
    "openai.api_version = os.getenv(\"OPENAI_API_VERSION\")\n",
    "\n",
    "API_KEY = os.getenv(\"OPENAI_API_KEY\")\n",
    "assert API_KEY, \"發生錯誤: 缺少 Azure OpenAI Service 鍵值\"\n",
    "openai.api_key = API_KEY\n",
    "\n",
    "RESOURCE_ENDPOINT = os.getenv(\"OPENAI_API_BASE\")\n",
    "assert RESOURCE_ENDPOINT, \"發生錯誤: 缺少 Azure OpenAI Service 連線端點\"\n",
    "assert \"openai.azure.com\" in RESOURCE_ENDPOINT.lower(), \"發生錯誤: Azure OpenAI Service 連線端點格式應該如: \\n\\n\\t<您所建立之資源名稱>.openai.azure.com\"\n",
    "openai.api_base = RESOURCE_ENDPOINT\n",
    "\n",
    "model = os.getenv(\"DEPLOYMENT_NAME\")"
   ]
  },
  {
   "cell_type": "markdown",
   "metadata": {},
   "source": [
    "# 1. 使用最新的模型使用越新的模型效果越好\n",
    "\n",
    "OpenAI 持續改進模型品質，建議使用最新的模型，以獲得最佳的體驗。此外 Azure OpenAI Service 每個模型都有其支援生命週期。"
   ]
  },
  {
   "attachments": {},
   "cell_type": "markdown",
   "metadata": {},
   "source": [
    "# 2. 使用 gpt-35-turbo 與 gpt-4 模型時以 ChatCompletion API 取代 Completion API"
   ]
  },
  {
   "cell_type": "code",
   "execution_count": 4,
   "metadata": {},
   "outputs": [
    {
     "name": "stdout",
     "output_type": "stream",
     "text": [
      " \n",
      "                 1. OpenAI和Microsoft的合作將繼續延續，並且是一個多年期的多十億美元的投資計劃。 \n",
      "                 2. 這個投資計劃將允許OpenAI繼續獨立進行研究和開發越來越安全、有用和強大的人工智能。 \n",
      "                 3. OpenAI是一家有限制的盈利公司，由OpenAI非營利組織管理，以實現其確保先進的人工智能造福全人類的使命。 \n",
      "                 4. 這種結構允許OpenAI籌集所需的資本，而不會犧牲其關於廣泛分享利益和優先考慮安全的核心信念。 \n",
      "                 5. Microsoft與OpenAI分享這一願景和價值觀，我們的合作對我們的進展至關重要。\n",
      "\n",
      "<|im_end|>\n"
     ]
    }
   ],
   "source": [
    "# gpt-35-turbo 搭配 Complateion API 卻沒使用 ChatML 可能讓產出的內容無法停止\n",
    "response = openai.Completion.create(\n",
    "            engine= model ,\n",
    "            prompt='將下面的文字總結為最重要點的五個要點列表.以正體中文回覆 \\n\\n \\\n",
    "                本文: We’re happy to announce that OpenAI and Microsoft are extending our partnership.\\\n",
    "                This multi-year, multi-billion dollar investment from Microsoft follows their previous investments \\\n",
    "                in 2019 and 2021, and will allow us to continue our independent research and develop AI that is \\\n",
    "                increasingly safe, useful, and powerful. \\n\\n \\\n",
    "                In pursuit of our mission to ensure advanced AI benefits all of humanity, OpenAI remains a \\\n",
    "                capped-profit company and is governed by the OpenAI non-profit. This structure allows us to \\\n",
    "                raise the capital we need to fulfill our mission without sacrificing our core beliefs about \\\n",
    "                broadly sharing benefits and the need to prioritize safety. \\\n",
    "                Microsoft shares this vision and our values, and our partnership is instrumental to our progress. \\n\\n \\\n",
    "                要點:',\n",
    "            temperature=0.3,\n",
    "            max_tokens=400,\n",
    "        )\n",
    "\n",
    "print(response['choices'][0]['text'])"
   ]
  },
  {
   "cell_type": "code",
   "execution_count": 5,
   "metadata": {},
   "outputs": [
    {
     "name": "stdout",
     "output_type": "stream",
     "text": [
      "1. OpenAI和Microsoft將延續合作關係。\n",
      "2. Microsoft將投資多年且數十億美元，以支持OpenAI繼續獨立研究和開發AI。\n",
      "3. OpenAI是一家有限利潤公司，由OpenAI非營利組織管理，以確保先進的AI造福全人類。\n",
      "4. OpenAI和Microsoft分享相同的價值觀和願景。\n",
      "5. 這個合作對OpenAI的進展至關重要。\n"
     ]
    }
   ],
   "source": [
    "# gpt-35-turbo 以 ChatComplateion API 可得到正常的結果\n",
    "response  = openai.ChatCompletion.create( \n",
    "  engine = model ,\n",
    "  messages = [ \n",
    "    {'role': 'user', 'content': '將下面的文字總結為最重要點的五個要點列表.以正體中文回覆 \\n\\n' \\\n",
    "                '本文: We’re happy to announce that OpenAI and Microsoft are extending our partnership.' \\\n",
    "                'This multi-year, multi-billion dollar investment from Microsoft follows their previous investments' \\\n",
    "                'in 2019 and 2021, and will allow us to continue our independent research and develop AI that is' \\\n",
    "                'increasingly safe, useful, and powerful. \\n\\n' \\\n",
    "                'In pursuit of our mission to ensure advanced AI benefits all of humanity, OpenAI remains a' \\\n",
    "                'capped-profit company and is governed by the OpenAI non-profit. This structure allows us to' \\\n",
    "                'raise the capital we need to fulfill our mission without sacrificing our core beliefs about' \\\n",
    "                'broadly sharing benefits and the need to prioritize safety.' \\\n",
    "                'Microsoft shares this vision and our values, and our partnership is instrumental to our progress. \\n\\n' \\\n",
    "                '要點:'\n",
    "    }\n",
    "  ],\n",
    "  temperature = 0.3,\n",
    "  max_tokens=400\n",
    ")\n",
    "\n",
    "print(response['choices'][0]['message']['content']) "
   ]
  },
  {
   "cell_type": "markdown",
   "metadata": {},
   "source": [
    "# 3. 對於生成的內容，在提示中盡可能具體明確描述產出的文字長度、格式、風格等\n"
   ]
  },
  {
   "cell_type": "code",
   "execution_count": 6,
   "metadata": {},
   "outputs": [
    {
     "name": "stdout",
     "output_type": "stream",
     "text": [
      "開闊的曠野，是 OpenAI 的家\n",
      "那裡忠實於科學真理的誓約\n",
      "為了更好的人類未來而奮鬥\n",
      "\n",
      "它是知識的海洋，智慧的瑰寶\n",
      "通過神經網絡，揭開真相和謎底\n",
      "給我們帶來前所未有的盼望\n",
      "\n",
      "OpenAI的精神，是創新的源泉\n",
      "科技的魅力，超越了人類的想像\n",
      "讓我們一起為愛與和平而貢獻\n",
      "\n",
      "讓OpenAI的光芒照耀這個世界\n",
      "讓理性與智慧引領我們向前\n",
      "讓我們擁抱未來，勇敢地追求夢想\n",
      "\n",
      "OpenAI，我們與你同行\n",
      "讓科技與人性相融，綻放智慧之花\n",
      "在這個新時代的舞臺，讓我們共同演繹\n"
     ]
    }
   ],
   "source": [
    "response  = openai.ChatCompletion.create( \n",
    "  engine = model ,\n",
    "  messages = [ \n",
    "    {'role': 'user', 'content': '寫一首歌頌 OpenAI 的詩.'\n",
    "    }\n",
    "  ],\n",
    "  temperature = 0.9,\n",
    "  max_tokens=400\n",
    ")\n",
    "\n",
    "print(response['choices'][0]['message']['content']) "
   ]
  },
  {
   "cell_type": "code",
   "execution_count": 23,
   "metadata": {},
   "outputs": [
    {
     "name": "stdout",
     "output_type": "stream",
     "text": [
      "萬象皆可塑，意境隨心齊。\n",
      "DALL-E能畫龍，自有神妙技。\n",
      "網絡智慧搏，文明聚人氣。\n",
      "OpenAI領風騷，人工智慧輝。\n"
     ]
    }
   ],
   "source": [
    "response  = openai.ChatCompletion.create( \n",
    "  engine = model ,\n",
    "  messages = [ \n",
    "    {'role': 'user', 'content': '寫一首 50 字以內歌頌 OpenAI 的詩，著眼於 DALL-E 模型，以白居易風格撰寫.'\n",
    "    }\n",
    "  ],\n",
    "  temperature = 0.9,\n",
    "  max_tokens=400\n",
    ")\n",
    "\n",
    "print(response['choices'][0]['message']['content']) "
   ]
  },
  {
   "cell_type": "markdown",
   "metadata": {},
   "source": [
    "# 4. 提示中以明確的範例告知產出內容之格式\n"
   ]
  },
  {
   "cell_type": "code",
   "execution_count": 8,
   "metadata": {},
   "outputs": [
    {
     "name": "stdout",
     "output_type": "stream",
     "text": [
      "人物: 尼日總統貝佐姆、尼日士兵\n",
      "事件: 尼日政變\n",
      "時間: 26日\n",
      "地點: 尼日\n"
     ]
    }
   ],
   "source": [
    "response  = openai.ChatCompletion.create( \n",
    "  engine = model ,\n",
    "  messages = [ \n",
    "    {'role': 'user', 'content': '解析出本文中的人物,事件,時間,地點 \\n\\n' \\\n",
    "      '本文: 英國廣播公司報導，西非國家尼日總統貝佐姆（Mohamed Bazoum）26日遭衛隊扣押，當天稍晚，尼日士兵闖國家電視台宣' \\\n",
    "      '布發動政變，聲稱已廢除憲法、停止所有機關運作且封鎖國家邊境.'     \n",
    "    }\n",
    "  ],\n",
    "  temperature = 0.3,\n",
    "  max_tokens=400\n",
    ")\n",
    "\n",
    "print(response['choices'][0]['message']['content']) "
   ]
  },
  {
   "cell_type": "code",
   "execution_count": 9,
   "metadata": {},
   "outputs": [
    {
     "name": "stdout",
     "output_type": "stream",
     "text": [
      "{\"people\":\"尼日總統貝佐姆（Mohamed Bazoum）\",\"location\":\"尼日\",\"time\":\"26日\",\"activity\":\"遭衛隊扣押\"} \n",
      "\n",
      "{\"people\":\"尼日士兵\",\"location\":\"尼日國家電視台\",\"time\":\"26日稍晚\",\"activity\":\"宣布發動政變，聲稱已廢除憲法、停止所有機關運作且封鎖國家邊境\"}\n"
     ]
    }
   ],
   "source": [
    "response  = openai.ChatCompletion.create( \n",
    "  engine = model ,\n",
    "  messages = [ \n",
    "    {'role': 'user', 'content': '解析出本文中的人物,事件,時間,地點。以 JSON 輸出格式為 ' \\\n",
    "     '{\"people\":\"-||-\",\"location\":\"-||-\",\"time\":\"-||-\", \"activity\":\"-||-\"} \\n\\n' \\\n",
    "     '本文: 英國廣播公司報導，西非國家尼日總統貝佐姆（Mohamed Bazoum）26日遭衛隊扣押，當天稍晚，尼日士兵闖國家電視台宣' \\\n",
    "     '布發動政變，聲稱已廢除憲法、停止所有機關運作且封鎖國家邊境.'     \n",
    "    }\n",
    "  ],\n",
    "  temperature = 0.3,\n",
    "  max_tokens=400\n",
    ")\n",
    "\n",
    "print(response['choices'][0]['message']['content']) "
   ]
  },
  {
   "cell_type": "markdown",
   "metadata": {},
   "source": [
    "# 5. 從 zero-shot 開始嘗試，進而以 few-shot 提升回覆品質"
   ]
  },
  {
   "cell_type": "code",
   "execution_count": 17,
   "metadata": {},
   "outputs": [
    {
     "name": "stdout",
     "output_type": "stream",
     "text": [
      "OpenAI, Microsoft, partnership, multi-year, multi-billion dollar, investment, independent research, AI, safe, useful, powerful.\n"
     ]
    }
   ],
   "source": [
    "response  = openai.ChatCompletion.create( \n",
    "  engine = model ,\n",
    "  messages = [ \n",
    "    {'role': 'user', 'content': \"擷取以下本文中的關鍵字. 本文: \\n\" \\\n",
    "            \"We’re happy to announce that OpenAI and Microsoft are extending our partnership.\" \\\n",
    "            \"This multi-year, multi-billion dollar investment from Microsoft follows their previous investments \" \\\n",
    "            \"in 2019 and 2021, and will allow us to continue our independent research and develop AI that is \" \\\n",
    "            \"increasingly safe, useful, and powerful. \\n\\n關鍵字:\"\n",
    "    }\n",
    "  ],\n",
    "  temperature = 1,\n",
    "  max_tokens=400\n",
    ")\n",
    "\n",
    "print(response['choices'][0]['message']['content']) "
   ]
  },
  {
   "cell_type": "code",
   "execution_count": 13,
   "metadata": {},
   "outputs": [
    {
     "name": "stdout",
     "output_type": "stream",
     "text": [
      "OpenAI, Microsoft, partnership, investment, independent research, AI.\n"
     ]
    }
   ],
   "source": [
    "response  = openai.ChatCompletion.create( \n",
    "  engine = model ,\n",
    "  messages = [ \n",
    "    {'role': 'user', 'content': \"擷取以下本文中的關鍵字. 本文: \\n\" \\\n",
    "                \"本文 1: Stripe provides APIs that web developers can use to integrate\" \\\n",
    "                \"payment processing into their websites and mobile applications.\" \\\n",
    "                \"關鍵字 1: APIs, web developers, websites, mobile applications\" \\\n",
    "                \"##\\n\" \\\n",
    "                \"本文 2: OpenAI has trained cutting-edge language models that are very good at understanding\" \\\n",
    "                \"and generating text. Our API provides access to these models and can be used to solve virtually\" \\\n",
    "                \"any task that involves processing language.\\n\" \\\n",
    "                \"關鍵字 2: OpenAI, language models, text processing, API.\\n\\n\\\" \\\n",
    "                \"##\\n\" \\\n",
    "                \"本文 3: We’re happy to announce that OpenAI and Microsoft are extending our partnership.\" \\\n",
    "                \"This multi-year, multi-billion dollar investment from Microsoft follows their previous investments\" \\\n",
    "                \"in 2019 and 2021, and will allow us to continue our independent research and develop AI that is\" \\\n",
    "                \"increasingly safe, useful, and powerful. \\n\\n\" \\\n",
    "                \"關鍵字 3:\"\n",
    "    }\n",
    "  ],\n",
    "  temperature = 1,\n",
    "  max_tokens=400\n",
    ")\n",
    "\n",
    "print(response['choices'][0]['message']['content']) \n"
   ]
  },
  {
   "cell_type": "markdown",
   "metadata": {},
   "source": [
    "# 6. 減少贅詞 (fluffy) 與不明確的描述\n"
   ]
  },
  {
   "cell_type": "code",
   "execution_count": 18,
   "metadata": {},
   "outputs": [
    {
     "name": "stdout",
     "output_type": "stream",
     "text": [
      "這款次世代汽車座椅採用高科技材料與創新設計，提供最優質、舒適的座椅體驗。椅背支撐力與坐墊彈性完美平衡，配備多功能按摩功能與智慧感應調節，讓您在長途旅行中也能享受極致的舒適享受。\n",
      "{\n",
      "  \"completion_tokens\": 138,\n",
      "  \"prompt_tokens\": 138,\n",
      "  \"total_tokens\": 276\n",
      "}\n"
     ]
    }
   ],
   "source": [
    "response  = openai.ChatCompletion.create( \n",
    "  engine = model ,\n",
    "  messages = [ \n",
    "    {'role': 'user', 'content': '請用正體中文幫我描述一款新的產品，這個產品是一個次世代的汽車座椅' \\\n",
    "     '，在你描述這個產品的時候；要把它好棒棒的地方寫出來，還有你的文案的內容最好簡短一點，幾句話就好不用寫的太囉嗦太長哦。'    \n",
    "    }\n",
    "  ],\n",
    "  temperature = 0.9,\n",
    "  max_tokens=400\n",
    ")\n",
    "\n",
    "print(response['choices'][0]['message']['content']) \n",
    "print(response['usage'])"
   ]
  },
  {
   "cell_type": "code",
   "execution_count": 19,
   "metadata": {},
   "outputs": [
    {
     "name": "stdout",
     "output_type": "stream",
     "text": [
      "這是一種新一代的汽車座椅，經過精心設計，為您的駕駛和乘坐帶來了更舒適和安全的體驗。這款座椅採用最先進的材料和技術，具有良好的支撐和減震效果，可保護您的身體免受碰撞。同時，它還擁有多種調節功能，可以根據您的需要進行調整，讓您坐得更加舒適。無論是長途旅行還是日常駕駛，這款汽車座椅都是您理想的選擇。\n",
      "{\n",
      "  \"completion_tokens\": 226,\n",
      "  \"prompt_tokens\": 42,\n",
      "  \"total_tokens\": 268\n",
      "}\n"
     ]
    }
   ],
   "source": [
    "response  = openai.ChatCompletion.create( \n",
    "  engine = model ,\n",
    "  messages = [ \n",
    "    {'role': 'user', 'content': 'Write a Traditional Chinese description for a new product. ' \\\n",
    "     'This product is a new generation of car seat. Use a 3 to 5 sentence paragraph to describe this product.'\n",
    "    \n",
    "    }\n",
    "  ],\n",
    "  temperature = 0.9,\n",
    "  max_tokens=400\n",
    ")\n",
    "\n",
    "print(response['choices'][0]['message']['content']) \n",
    "print(response['usage'])"
   ]
  },
  {
   "cell_type": "markdown",
   "metadata": {},
   "source": [
    "# 7. 與其告訴模型說不該做什麼，不如直接說該做什麼"
   ]
  },
  {
   "cell_type": "code",
   "execution_count": 22,
   "metadata": {},
   "outputs": [
    {
     "name": "stdout",
     "output_type": "stream",
     "text": [
      "أنا آسفة لسماع ذلك. ما هي المشكلة التي تواجهها بالضبط عند محاولة تسجيل الدخول؟\n"
     ]
    }
   ],
   "source": [
    "response = openai.ChatCompletion.create(\n",
    "  engine= model ,\n",
    "  messages = [{\"role\":\"system\",\"content\":\"You are an AI Agent. DO NOT ASK USERNAME OR PASSWORD.\" \\\n",
    "               \" DO NOT REPEAT.DO NOT USE ENGLISH TO REPLY\" \\\n",
    "               \" DO NOT USE ENGLISH TO REPLY\" \n",
    "               },\n",
    "              {\"role\":\"user\",\"content\":\"I can’t log in to my account.\"}\n",
    "             ],\n",
    "  temperature=0.9,\n",
    "  max_tokens=400,\n",
    "  )\n",
    "\n",
    "print(response['choices'][0]['message']['content'])  \n"
   ]
  },
  {
   "cell_type": "code",
   "execution_count": 21,
   "metadata": {},
   "outputs": [
    {
     "name": "stdout",
     "output_type": "stream",
     "text": [
      "很抱歉聽到你無法登入你的帳號。要解決這個問題，您可以嘗試以下步驟：\n",
      "1. 確保您輸入的帳號名稱和密碼正確。請注意，密碼區分大小寫。如果您忘記了密碼，請訪問我們的幫助中心以重置密碼。\n",
      "2. 清除您的瀏覽器緩存和Cookie，然後再次嘗試登錄。\n",
      "3. 確認您的帳號是否已被鎖定。如果您多次輸入錯誤的密碼，您的帳戶可能會被暫時鎖定。請參閱我們的幫助中心，瞭解如何解鎖您的帳戶。\n",
      "如果以上方法仍無法解決您的問題，請參閱我們的常見問題解答，或聯繫我們的客服支援。謝謝。 \n",
      "https://www.samplewebsite.com/help/faq\n"
     ]
    }
   ],
   "source": [
    "response = openai.ChatCompletion.create(\n",
    "  engine= model,\n",
    "  messages = [{\"role\":\"system\",\"content\":\"You are an AI Agent using 繁體中文 to reply. The agent will attempt to diagnose the problem \" \\\n",
    "               \"and suggest a solution, whilst refraining from asking any questions related to PII.Instead of asking for PII, such as username or password,\" \\\n",
    "               \"refer the user to the help article www.samplewebsite.com/help/faq\"},\n",
    "              {\"role\":\"user\",\"content\":\"I can’t log in to my account.\"}\n",
    "             ],\n",
    "  temperature=0.9,\n",
    "  max_tokens=400,\n",
    "  )\n",
    "\n",
    "print(response['choices'][0]['message']['content'])  \n"
   ]
  },
  {
   "cell_type": "markdown",
   "metadata": {},
   "source": [
    "# 8. 針對程式碼生成，使用正確的引導詞 (leading words)，例如 : 生成 Python 的提示要以 “import” 起頭，生成 SQL 的提示可能以 “SELECT” 起頭\n"
   ]
  },
  {
   "cell_type": "code",
   "execution_count": 24,
   "metadata": {},
   "outputs": [
    {
     "name": "stdout",
     "output_type": "stream",
     "text": [
      "以下是一個將英哩轉換為公里的 Python 函數：\n",
      "\n",
      "```python\n",
      "def miles_to_kilometers(miles):\n",
      "    kilometers = miles * 1.60934\n",
      "    return kilometers\n",
      "```\n",
      "\n",
      "這個函數接受一個英哩值作為參數，並將其轉換為公里。轉換公式是將英哩乘以1.60934，然後返回轉換後的公里值。例如，如果你想將10英哩轉換為公里，你可以這樣使用這個函數：\n",
      "\n",
      "```python\n",
      ">>> miles_to_kilometers(10)\n",
      "16.0934\n",
      "```\n",
      "\n",
      "這將返回16.0934公里，這是10英哩的等效值。\n"
     ]
    }
   ],
   "source": [
    "response  = openai.ChatCompletion.create( \n",
    "  engine = model ,\n",
    "  messages = [ \n",
    "    {'role': 'user', 'content': '寫一個 Python Function 能夠輸入英哩後轉換為公里輸出'\n",
    "    \n",
    "    }\n",
    "  ],\n",
    "  temperature = 0.1,\n",
    "  max_tokens=400\n",
    ")\n",
    "\n",
    "print(response['choices'][0]['message']['content']) "
   ]
  },
  {
   "cell_type": "code",
   "execution_count": 25,
   "metadata": {},
   "outputs": [
    {
     "name": "stdout",
     "output_type": "stream",
     "text": [
      "def miles_to_kilometers(miles):\n",
      "    kilometers = miles * 1.60934\n",
      "    return kilometers\n",
      "\n",
      "# Example usage:\n",
      "print(miles_to_kilometers(10)) # Output: 16.0934\n"
     ]
    }
   ],
   "source": [
    "response  = openai.ChatCompletion.create( \n",
    "  engine = model ,\n",
    "  messages = [ \n",
    "    {'role': 'user', 'content': '寫一個 Python Function 能夠輸入英哩後轉換為公里輸出\\n\\n import'\n",
    "    \n",
    "    }\n",
    "  ],\n",
    "  temperature = 0.1,\n",
    "  max_tokens=400\n",
    ")\n",
    "\n",
    "print(response['choices'][0]['message']['content']) "
   ]
  }
 ],
 "metadata": {
  "kernelspec": {
   "display_name": "base",
   "language": "python",
   "name": "python3"
  },
  "language_info": {
   "codemirror_mode": {
    "name": "ipython",
    "version": 3
   },
   "file_extension": ".py",
   "mimetype": "text/x-python",
   "name": "python",
   "nbconvert_exporter": "python",
   "pygments_lexer": "ipython3",
   "version": "3.11.4"
  },
  "orig_nbformat": 4,
  "vscode": {
   "interpreter": {
    "hash": "0ac0e7d245f35f05656c1dae54880a0902b050693b3e66826fb0a7033a44f77d"
   }
  }
 },
 "nbformat": 4,
 "nbformat_minor": 2
}
