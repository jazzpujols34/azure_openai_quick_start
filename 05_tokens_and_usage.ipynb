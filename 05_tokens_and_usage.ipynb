{
 "cells": [
  {
   "cell_type": "markdown",
   "metadata": {},
   "source": [
    "# Tokens 計算"
   ]
  },
  {
   "cell_type": "markdown",
   "metadata": {},
   "source": [
    "Huggingface 所提供之 GPT Token 計算工具 (https://github.com/huggingface/transformers/blob/main/src/transformers/models/gpt2/tokenization_gpt2.py) "
   ]
  },
  {
   "cell_type": "code",
   "execution_count": 2,
   "metadata": {},
   "outputs": [
    {
     "name": "stdout",
     "output_type": "stream",
     "text": [
      "Requirement already satisfied: openai in c:\\users\\tomlee\\appdata\\local\\programs\\python\\python311\\lib\\site-packages (0.27.8)Note: you may need to restart the kernel to use updated packages.\n",
      "\n",
      "Requirement already satisfied: python-dotenv in c:\\users\\tomlee\\appdata\\local\\programs\\python\\python311\\lib\\site-packages (1.0.0)\n",
      "Requirement already satisfied: transformers in c:\\users\\tomlee\\appdata\\local\\programs\\python\\python311\\lib\\site-packages (4.31.0)\n",
      "Requirement already satisfied: requests>=2.20 in c:\\users\\tomlee\\appdata\\local\\programs\\python\\python311\\lib\\site-packages (from openai) (2.31.0)\n",
      "Requirement already satisfied: tqdm in c:\\users\\tomlee\\appdata\\local\\programs\\python\\python311\\lib\\site-packages (from openai) (4.65.0)\n",
      "Requirement already satisfied: aiohttp in c:\\users\\tomlee\\appdata\\local\\programs\\python\\python311\\lib\\site-packages (from openai) (3.8.5)\n",
      "Requirement already satisfied: filelock in c:\\users\\tomlee\\appdata\\local\\programs\\python\\python311\\lib\\site-packages (from transformers) (3.12.2)\n",
      "Requirement already satisfied: huggingface-hub<1.0,>=0.14.1 in c:\\users\\tomlee\\appdata\\local\\programs\\python\\python311\\lib\\site-packages (from transformers) (0.16.4)\n",
      "Requirement already satisfied: numpy>=1.17 in c:\\users\\tomlee\\appdata\\local\\programs\\python\\python311\\lib\\site-packages (from transformers) (1.25.1)\n",
      "Requirement already satisfied: packaging>=20.0 in c:\\users\\tomlee\\appdata\\roaming\\python\\python311\\site-packages (from transformers) (23.0)\n",
      "Requirement already satisfied: pyyaml>=5.1 in c:\\users\\tomlee\\appdata\\local\\programs\\python\\python311\\lib\\site-packages (from transformers) (6.0.1)\n",
      "Requirement already satisfied: regex!=2019.12.17 in c:\\users\\tomlee\\appdata\\local\\programs\\python\\python311\\lib\\site-packages (from transformers) (2023.6.3)\n",
      "Requirement already satisfied: tokenizers!=0.11.3,<0.14,>=0.11.1 in c:\\users\\tomlee\\appdata\\local\\programs\\python\\python311\\lib\\site-packages (from transformers) (0.13.3)\n",
      "Requirement already satisfied: safetensors>=0.3.1 in c:\\users\\tomlee\\appdata\\local\\programs\\python\\python311\\lib\\site-packages (from transformers) (0.3.1)\n",
      "Requirement already satisfied: fsspec in c:\\users\\tomlee\\appdata\\local\\programs\\python\\python311\\lib\\site-packages (from huggingface-hub<1.0,>=0.14.1->transformers) (2023.6.0)\n",
      "Requirement already satisfied: typing-extensions>=3.7.4.3 in c:\\users\\tomlee\\appdata\\local\\programs\\python\\python311\\lib\\site-packages (from huggingface-hub<1.0,>=0.14.1->transformers) (4.7.1)\n",
      "Requirement already satisfied: charset-normalizer<4,>=2 in c:\\users\\tomlee\\appdata\\local\\programs\\python\\python311\\lib\\site-packages (from requests>=2.20->openai) (3.2.0)\n",
      "Requirement already satisfied: idna<4,>=2.5 in c:\\users\\tomlee\\appdata\\local\\programs\\python\\python311\\lib\\site-packages (from requests>=2.20->openai) (3.4)\n",
      "Requirement already satisfied: urllib3<3,>=1.21.1 in c:\\users\\tomlee\\appdata\\local\\programs\\python\\python311\\lib\\site-packages (from requests>=2.20->openai) (2.0.4)\n",
      "Requirement already satisfied: certifi>=2017.4.17 in c:\\users\\tomlee\\appdata\\local\\programs\\python\\python311\\lib\\site-packages (from requests>=2.20->openai) (2023.7.22)\n",
      "Requirement already satisfied: colorama in c:\\users\\tomlee\\appdata\\local\\programs\\python\\python311\\lib\\site-packages (from tqdm->openai) (0.4.6)\n",
      "Requirement already satisfied: attrs>=17.3.0 in c:\\users\\tomlee\\appdata\\local\\programs\\python\\python311\\lib\\site-packages (from aiohttp->openai) (23.1.0)\n",
      "Requirement already satisfied: multidict<7.0,>=4.5 in c:\\users\\tomlee\\appdata\\local\\programs\\python\\python311\\lib\\site-packages (from aiohttp->openai) (6.0.4)\n",
      "Requirement already satisfied: async-timeout<5.0,>=4.0.0a3 in c:\\users\\tomlee\\appdata\\local\\programs\\python\\python311\\lib\\site-packages (from aiohttp->openai) (4.0.2)\n",
      "Requirement already satisfied: yarl<2.0,>=1.0 in c:\\users\\tomlee\\appdata\\local\\programs\\python\\python311\\lib\\site-packages (from aiohttp->openai) (1.9.2)\n",
      "Requirement already satisfied: frozenlist>=1.1.1 in c:\\users\\tomlee\\appdata\\local\\programs\\python\\python311\\lib\\site-packages (from aiohttp->openai) (1.4.0)\n",
      "Requirement already satisfied: aiosignal>=1.1.2 in c:\\users\\tomlee\\appdata\\local\\programs\\python\\python311\\lib\\site-packages (from aiohttp->openai) (1.3.1)\n"
     ]
    }
   ],
   "source": [
    "%pip install openai python-dotenv transformers"
   ]
  },
  {
   "cell_type": "code",
   "execution_count": 1,
   "metadata": {},
   "outputs": [
    {
     "name": "stderr",
     "output_type": "stream",
     "text": [
      "c:\\Users\\tomlee\\AppData\\Local\\Programs\\Python\\Python311\\Lib\\site-packages\\tqdm\\auto.py:21: TqdmWarning: IProgress not found. Please update jupyter and ipywidgets. See https://ipywidgets.readthedocs.io/en/stable/user_install.html\n",
      "  from .autonotebook import tqdm as notebook_tqdm\n",
      "None of PyTorch, TensorFlow >= 2.0, or Flax have been found. Models won't be available and only tokenizers, configuration and file/data utilities can be used.\n",
      "The tokenizer class you load from this checkpoint is not the same type as the class this function is called from. It may result in unexpected tokenization. \n",
      "The tokenizer class you load from this checkpoint is 'OpenAIGPTTokenizer'. \n",
      "The class this function is called from is 'GPT2TokenizerFast'.\n",
      "Special tokens have been added in the vocabulary, make sure the associated word embeddings are fine-tuned or trained.\n"
     ]
    },
    {
     "name": "stdout",
     "output_type": "stream",
     "text": [
      "tokens 總數: 9\n",
      "Tokens :  ['azure', 'open', 'ai', 'service', 'is', 'general', 'available', 'now', '!']\n"
     ]
    }
   ],
   "source": [
    "import os\n",
    "import openai\n",
    "from transformers import GPT2TokenizerFast\n",
    "from dotenv import load_dotenv\n",
    "\n",
    "# 載入環境變數\n",
    "load_dotenv()\n",
    "\n",
    "# 設定呼叫 OpenAI API 所需連線資訊\n",
    "openai.api_type = os.getenv(\"OPENAI_API_TYPE\")\n",
    "openai.api_version = os.getenv(\"OPENAI_API_VERSION\")\n",
    "\n",
    "API_KEY = os.getenv(\"OPENAI_API_KEY\")\n",
    "assert API_KEY, \"發生錯誤: 缺少 Azure OpenAI Service 鍵值\"\n",
    "openai.api_key = API_KEY\n",
    "\n",
    "RESOURCE_ENDPOINT = os.getenv(\"OPENAI_API_BASE\")\n",
    "assert RESOURCE_ENDPOINT, \"發生錯誤: 缺少 Azure OpenAI Service 連線端點\"\n",
    "assert \"openai.azure.com\" in RESOURCE_ENDPOINT.lower(), \"發生錯誤: Azure OpenAI Service 連線端點格式應該如: \\n\\n\\t<您所建立之資源名稱>.openai.azure.com\"\n",
    "openai.api_base = RESOURCE_ENDPOINT\n",
    "\n",
    "# 建立 GPT tokenizer 來了解每個 Token 內容與 Token 總數\n",
    "tokenizer = GPT2TokenizerFast.from_pretrained(\"openai-gpt\")\n",
    "prompt = \"Azure OpenAI service is General Available now!\"\n",
    "tokens = tokenizer(prompt)\n",
    "print('tokens 總數:', len(tokens['input_ids']))\n",
    "print('Tokens : ', [tokenizer.decode(t) for t in tokens['input_ids']])"
   ]
  },
  {
   "cell_type": "code",
   "execution_count": 6,
   "metadata": {},
   "outputs": [],
   "source": [
    "response = openai.Completion.create(\n",
    "    engine= \"text-davinci-003\",\n",
    "    prompt=prompt,\n",
    "    max_tokens=60,\n",
    "    n=2,\n",
    "    best_of=2,\n",
    ")"
   ]
  },
  {
   "attachments": {},
   "cell_type": "markdown",
   "metadata": {},
   "source": [
    "# 使用參數 n 與 best_of 產生兩組生成內容"
   ]
  },
  {
   "cell_type": "code",
   "execution_count": 7,
   "metadata": {},
   "outputs": [
    {
     "name": "stdout",
     "output_type": "stream",
     "text": [
      "============================== ANSWER #1 ==============================\n",
      "\n",
      "\n",
      "Yes, Azure OpenAI is now generally available for users to take advantage of. With the service, users can now create and train models with OpenAI's large-scale reinforcement learning and unsupervised learning algorithms. They can also deploy and manage those models in the cloud. The service is\n",
      "============================== ANSWER #2 ==============================\n",
      "\n",
      "\n",
      "Yes, the Microsoft Azure Open AI service is now generally available. It includes a suite of tools that allow developers and data scientists to create, train, and deploy artificial intelligence models. It provides integration with Azure services such as Storage, Compute, Machine Learning, and Cognitive Services. The Open\n"
     ]
    }
   ],
   "source": [
    "print('='*30, 'ANSWER #1', '='*30)\n",
    "print(response['choices'][0]['text'])\n",
    "print('='*30, 'ANSWER #2', '='*30)\n",
    "print(response['choices'][1]['text'])\n"
   ]
  },
  {
   "cell_type": "markdown",
   "metadata": {},
   "source": [
    "# 顯示 Token 耗用量 (Usage) 分析"
   ]
  },
  {
   "cell_type": "code",
   "execution_count": 8,
   "metadata": {},
   "outputs": [
    {
     "data": {
      "text/plain": [
       "<OpenAIObject at 0x282b673b170> JSON: {\n",
       "  \"completion_tokens\": 120,\n",
       "  \"prompt_tokens\": 10,\n",
       "  \"total_tokens\": 130\n",
       "}"
      ]
     },
     "execution_count": 8,
     "metadata": {},
     "output_type": "execute_result"
    }
   ],
   "source": [
    "response['usage']"
   ]
  }
 ],
 "metadata": {
  "kernelspec": {
   "display_name": "azureml_py310_sdkv2",
   "language": "python",
   "name": "python3"
  },
  "language_info": {
   "codemirror_mode": {
    "name": "ipython",
    "version": 3
   },
   "file_extension": ".py",
   "mimetype": "text/x-python",
   "name": "python",
   "nbconvert_exporter": "python",
   "pygments_lexer": "ipython3",
   "version": "3.11.4"
  },
  "orig_nbformat": 4,
  "vscode": {
   "interpreter": {
    "hash": "2139c70ac98f3202d028164a545621647e07f47fd6f5d8ac55cf952bf7c15ed1"
   }
  }
 },
 "nbformat": 4,
 "nbformat_minor": 2
}
