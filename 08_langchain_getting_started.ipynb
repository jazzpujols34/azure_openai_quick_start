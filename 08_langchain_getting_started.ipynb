{
 "cells": [
  {
   "cell_type": "markdown",
   "metadata": {},
   "source": [
    "# LangChain 快速入門\n",
    "[LangChain](https://github.com/langchain-ai/langchain) 是針對大型語言模型 (LLM) 應用的相關實作加以抽象化的程式語言框架，支援 Python 與 Node.js 兩種程式語言，也能夠支援包含 OpenAI GPT 等多種 LLM ，在 LangChain 中不僅僅限於 LLM 之呼叫，還能納入一系列相關工具的呼叫。藉由 LangChain 所提供的 Chain 之標準介面，目前已經有著大量工具與資料來源能夠整合至 LangChain 框架之內。鍊是一種通用的概念，可以將特定運算簡化為一個可以重複使用；包含輸入/處理/輸出的一個元件，下圖就是 LangChain 最常用的鏈 LLMChain 為例，它結合了 PromptTemplate 獲取用戶輸入，支援多種大型語言模型，並將大型語言模型輸出的內容透過 Output Parser 轉換為特定格式， Chain 也可以將輸出再傳遞給其他鍊組合出更複雜的應用。\n",
    "\n",
    "![Chain 概念，以 LLMChain 為例](./assets/chain-concept.png)\n",
    "\n",
    "載入會使用到的套件"
   ]
  },
  {
   "cell_type": "code",
   "execution_count": 7,
   "metadata": {},
   "outputs": [
    {
     "name": "stdout",
     "output_type": "stream",
     "text": [
      "Requirement already satisfied: langchain in c:\\users\\tomlee\\appdata\\local\\programs\\python\\python311\\lib\\site-packages (0.0.250)\n",
      "Requirement already satisfied: openai in c:\\users\\tomlee\\appdata\\local\\programs\\python\\python311\\lib\\site-packages (0.27.8)\n",
      "Requirement already satisfied: python-dotenv in c:\\users\\tomlee\\appdata\\local\\programs\\python\\python311\\lib\\site-packages (1.0.0)\n",
      "Requirement already satisfied: wikipedia in c:\\users\\tomlee\\appdata\\local\\programs\\python\\python311\\lib\\site-packages (1.4.0)\n",
      "Requirement already satisfied: faiss-cpu in c:\\users\\tomlee\\appdata\\local\\programs\\python\\python311\\lib\\site-packages (1.7.4)\n",
      "Requirement already satisfied: PyYAML>=5.4.1 in c:\\users\\tomlee\\appdata\\local\\programs\\python\\python311\\lib\\site-packages (from langchain) (6.0.1)\n",
      "Requirement already satisfied: SQLAlchemy<3,>=1.4 in c:\\users\\tomlee\\appdata\\local\\programs\\python\\python311\\lib\\site-packages (from langchain) (2.0.19)\n",
      "Requirement already satisfied: aiohttp<4.0.0,>=3.8.3 in c:\\users\\tomlee\\appdata\\local\\programs\\python\\python311\\lib\\site-packages (from langchain) (3.8.5)\n",
      "Requirement already satisfied: dataclasses-json<0.6.0,>=0.5.7 in c:\\users\\tomlee\\appdata\\local\\programs\\python\\python311\\lib\\site-packages (from langchain) (0.5.14)\n",
      "Requirement already satisfied: langsmith<0.1.0,>=0.0.11 in c:\\users\\tomlee\\appdata\\local\\programs\\python\\python311\\lib\\site-packages (from langchain) (0.0.16)\n",
      "Requirement already satisfied: numexpr<3.0.0,>=2.8.4 in c:\\users\\tomlee\\appdata\\local\\programs\\python\\python311\\lib\\site-packages (from langchain) (2.8.4)\n",
      "Requirement already satisfied: numpy<2,>=1 in c:\\users\\tomlee\\appdata\\local\\programs\\python\\python311\\lib\\site-packages (from langchain) (1.25.1)\n",
      "Requirement already satisfied: openapi-schema-pydantic<2.0,>=1.2 in c:\\users\\tomlee\\appdata\\local\\programs\\python\\python311\\lib\\site-packages (from langchain) (1.2.4)\n",
      "Requirement already satisfied: pydantic<2,>=1 in c:\\users\\tomlee\\appdata\\local\\programs\\python\\python311\\lib\\site-packages (from langchain) (1.10.12)\n",
      "Requirement already satisfied: requests<3,>=2 in c:\\users\\tomlee\\appdata\\local\\programs\\python\\python311\\lib\\site-packages (from langchain) (2.31.0)\n",
      "Requirement already satisfied: tenacity<9.0.0,>=8.1.0 in c:\\users\\tomlee\\appdata\\local\\programs\\python\\python311\\lib\\site-packages (from langchain) (8.2.2)\n",
      "Requirement already satisfied: tqdm in c:\\users\\tomlee\\appdata\\local\\programs\\python\\python311\\lib\\site-packages (from openai) (4.65.0)\n",
      "Requirement already satisfied: beautifulsoup4 in c:\\users\\tomlee\\appdata\\local\\programs\\python\\python311\\lib\\site-packages (from wikipedia) (4.12.2)\n",
      "Requirement already satisfied: attrs>=17.3.0 in c:\\users\\tomlee\\appdata\\local\\programs\\python\\python311\\lib\\site-packages (from aiohttp<4.0.0,>=3.8.3->langchain) (23.1.0)\n",
      "Requirement already satisfied: charset-normalizer<4.0,>=2.0 in c:\\users\\tomlee\\appdata\\local\\programs\\python\\python311\\lib\\site-packages (from aiohttp<4.0.0,>=3.8.3->langchain) (3.2.0)\n",
      "Requirement already satisfied: multidict<7.0,>=4.5 in c:\\users\\tomlee\\appdata\\local\\programs\\python\\python311\\lib\\site-packages (from aiohttp<4.0.0,>=3.8.3->langchain) (6.0.4)\n",
      "Requirement already satisfied: async-timeout<5.0,>=4.0.0a3 in c:\\users\\tomlee\\appdata\\local\\programs\\python\\python311\\lib\\site-packages (from aiohttp<4.0.0,>=3.8.3->langchain) (4.0.2)\n",
      "Requirement already satisfied: yarl<2.0,>=1.0 in c:\\users\\tomlee\\appdata\\local\\programs\\python\\python311\\lib\\site-packages (from aiohttp<4.0.0,>=3.8.3->langchain) (1.9.2)\n",
      "Requirement already satisfied: frozenlist>=1.1.1 in c:\\users\\tomlee\\appdata\\local\\programs\\python\\python311\\lib\\site-packages (from aiohttp<4.0.0,>=3.8.3->langchain) (1.4.0)\n",
      "Requirement already satisfied: aiosignal>=1.1.2 in c:\\users\\tomlee\\appdata\\local\\programs\\python\\python311\\lib\\site-packages (from aiohttp<4.0.0,>=3.8.3->langchain) (1.3.1)\n",
      "Requirement already satisfied: marshmallow<4.0.0,>=3.18.0 in c:\\users\\tomlee\\appdata\\local\\programs\\python\\python311\\lib\\site-packages (from dataclasses-json<0.6.0,>=0.5.7->langchain) (3.20.1)\n",
      "Requirement already satisfied: typing-inspect<1,>=0.4.0 in c:\\users\\tomlee\\appdata\\local\\programs\\python\\python311\\lib\\site-packages (from dataclasses-json<0.6.0,>=0.5.7->langchain) (0.9.0)\n",
      "Requirement already satisfied: typing-extensions>=4.2.0 in c:\\users\\tomlee\\appdata\\local\\programs\\python\\python311\\lib\\site-packages (from pydantic<2,>=1->langchain) (4.7.1)\n",
      "Requirement already satisfied: idna<4,>=2.5 in c:\\users\\tomlee\\appdata\\local\\programs\\python\\python311\\lib\\site-packages (from requests<3,>=2->langchain) (3.4)\n",
      "Requirement already satisfied: urllib3<3,>=1.21.1 in c:\\users\\tomlee\\appdata\\local\\programs\\python\\python311\\lib\\site-packages (from requests<3,>=2->langchain) (2.0.4)\n",
      "Requirement already satisfied: certifi>=2017.4.17 in c:\\users\\tomlee\\appdata\\local\\programs\\python\\python311\\lib\\site-packages (from requests<3,>=2->langchain) (2023.7.22)\n",
      "Requirement already satisfied: greenlet!=0.4.17 in c:\\users\\tomlee\\appdata\\local\\programs\\python\\python311\\lib\\site-packages (from SQLAlchemy<3,>=1.4->langchain) (2.0.2)\n",
      "Requirement already satisfied: soupsieve>1.2 in c:\\users\\tomlee\\appdata\\local\\programs\\python\\python311\\lib\\site-packages (from beautifulsoup4->wikipedia) (2.4.1)\n",
      "Requirement already satisfied: colorama in c:\\users\\tomlee\\appdata\\local\\programs\\python\\python311\\lib\\site-packages (from tqdm->openai) (0.4.6)\n",
      "Requirement already satisfied: packaging>=17.0 in c:\\users\\tomlee\\appdata\\roaming\\python\\python311\\site-packages (from marshmallow<4.0.0,>=3.18.0->dataclasses-json<0.6.0,>=0.5.7->langchain) (23.0)\n",
      "Requirement already satisfied: mypy-extensions>=0.3.0 in c:\\users\\tomlee\\appdata\\local\\programs\\python\\python311\\lib\\site-packages (from typing-inspect<1,>=0.4.0->dataclasses-json<0.6.0,>=0.5.7->langchain) (1.0.0)\n",
      "Note: you may need to restart the kernel to use updated packages.\n"
     ]
    }
   ],
   "source": [
    "%pip install langchain openai python-dotenv wikipedia faiss-cpu"
   ]
  },
  {
   "cell_type": "markdown",
   "metadata": {},
   "source": [
    "## 1. 運用輔助函式庫，從環境變數取得 Azure OpenAI API 相關資訊\n",
    "\n",
    "開始使用 LangChain，Azure OpenAI Service 的主要參數都是透過環境變數設定完成，只需要指定模型之 Deployment_Name。其餘連線必要資訊皆透過以下四個環境變數指定即可\n",
    "\n",
    "+ OPENAI_API_TYPE\n",
    "+ OPENAI_API_VERSION\n",
    "+ OPENAI_API_BASE\n",
    "+ OPENAI_API_KEY"
   ]
  },
  {
   "cell_type": "code",
   "execution_count": 1,
   "metadata": {},
   "outputs": [],
   "source": [
    "import os\n",
    "from dotenv import load_dotenv\n",
    "from langchain.llms import AzureOpenAI\n",
    "\n",
    "# 載入環境變數\n",
    "load_dotenv()\n",
    "\n",
    "# 設定呼叫 OpenAI API 所需連線資訊\n",
    "model = os.getenv(\"DEPLOYMENT_NAME\")"
   ]
  },
  {
   "cell_type": "markdown",
   "metadata": {},
   "source": [
    "## 2. 最簡單的自動完成範例\n"
   ]
  },
  {
   "cell_type": "code",
   "execution_count": 46,
   "metadata": {},
   "outputs": [
    {
     "data": {
      "text/plain": [
       "' 中國、印度'"
      ]
     },
     "execution_count": 46,
     "metadata": {},
     "output_type": "execute_result"
    }
   ],
   "source": [
    "# 目前 LangChain 的 Azure OpenAI LLM 是封裝 Azure OpenAI Completeion API 而成的，搭配 GPT-3.5 仍會有自動完成無法結束的問題\n",
    "\n",
    "llm = AzureOpenAI(deployment_name=model,model_name='gpt-35-turbo')\n",
    "llm ('Q:世界人口最多的兩個國家?\\nA:',stop =\"\\n\")"
   ]
  },
  {
   "cell_type": "code",
   "execution_count": 47,
   "metadata": {},
   "outputs": [
    {
     "name": "stdout",
     "output_type": "stream",
     "text": [
      "\u001b[1mAzureOpenAI\u001b[0m\n",
      "Params: {'deployment_name': 'gpt-35-turbo', 'model_name': 'gpt-35-turbo', 'temperature': 0.7, 'max_tokens': 256, 'top_p': 1, 'frequency_penalty': 0, 'presence_penalty': 0, 'n': 1, 'request_timeout': None, 'logit_bias': {}}\n"
     ]
    }
   ],
   "source": [
    "print (llm)"
   ]
  },
  {
   "cell_type": "markdown",
   "metadata": {},
   "source": [
    "使用 [AzureChatOpenAI](https://python.langchain.com/docs/integrations/chat/azure_chat_openai) 則會使用 ChatComplete API 來完成對話。"
   ]
  },
  {
   "cell_type": "code",
   "execution_count": 48,
   "metadata": {},
   "outputs": [
    {
     "name": "stdout",
     "output_type": "stream",
     "text": [
      "世界人口最多的兩個國家為中國和印度。\n"
     ]
    }
   ],
   "source": [
    "from langchain.chat_models import AzureChatOpenAI\n",
    "from langchain.schema import AIMessage, HumanMessage, SystemMessage\n",
    "from langchain.prompts.chat import (\n",
    "    ChatPromptTemplate,\n",
    "    SystemMessagePromptTemplate,\n",
    "    AIMessagePromptTemplate,\n",
    "    HumanMessagePromptTemplate,\n",
    ")\n",
    "chat = AzureChatOpenAI(deployment_name=model,model_name='gpt-35-turbo')\n",
    "messages = [\n",
    "    SystemMessage(\n",
    "        content=\"你是一個回覆正體中文的機器人\"\n",
    "    ),\n",
    "    HumanMessage(\n",
    "        content=\"世界人口最多的兩個國家?\"\n",
    "    ),\n",
    "]\n",
    "responses = chat(messages)\n",
    "print(responses.content)"
   ]
  },
  {
   "cell_type": "markdown",
   "metadata": {},
   "source": [
    "接下嘗試使用 Chain 來處理相同問題，LLMChain 是最基本的 Chain，能夠以 PromptTemplate 增加輸入提示時的彈性，並將中間處理的大型語言模型抽象化，最後視狀況可以搭配多種 OutputParser 來處理輸出。由接下來的範例可以看出，我們可將 LLM Model 的 AzureOpenAI 與 Chat Model 的 AzureChatOpenAI 都使用一致的 LLMChain 鍊來進行處理。"
   ]
  },
  {
   "cell_type": "code",
   "execution_count": 49,
   "metadata": {},
   "outputs": [
    {
     "name": "stdout",
     "output_type": "stream",
     "text": [
      " 中國、印度\n",
      "<class 'str'>\n"
     ]
    }
   ],
   "source": [
    "from langchain.llms import OpenAI\n",
    "from langchain import LLMChain,PromptTemplate\n",
    "\n",
    "llm = AzureOpenAI(deployment_name=model,model_name='gpt-35-turbo',temperature=0,model_kwargs={\"stop\": [\"\\n\"]})\n",
    "\n",
    "# 設定 PromptTemplate\n",
    "prompt = PromptTemplate(input_variables=[\"prompt_str\"],template=\"{prompt_str}\")\n",
    "\n",
    "# 將 AzureOpenAI 以 LLMChain 方式使用\n",
    "chain = LLMChain(llm=llm,prompt=prompt)\n",
    "response = chain.run(\"Q:世界人口最多的兩個國家?\\nA:\")\n",
    "\n",
    "# 單純輸出內容是字串\n",
    "print(response)\n",
    "print(type(response))"
   ]
  },
  {
   "cell_type": "code",
   "execution_count": 50,
   "metadata": {},
   "outputs": [
    {
     "name": "stdout",
     "output_type": "stream",
     "text": [
      "['中國', '印度']\n",
      "<class 'list'>\n"
     ]
    }
   ],
   "source": [
    "from langchain.output_parsers import CommaSeparatedListOutputParser \n",
    "\n",
    "# 設定 PromptTemplate\n",
    "prompt = PromptTemplate(input_variables=[\"prompt_str\"],template=\"{prompt_str}\")\n",
    "\n",
    "# 設定輸出格式解析器\n",
    "output_parser = CommaSeparatedListOutputParser()\n",
    "format_instructions = output_parser.get_format_instructions()\n",
    "\n",
    "prompt = PromptTemplate(\n",
    "    template=\"{prompt_str}\\n{format_instructions}\\nA:\",\n",
    "    input_variables=[\"prompt_str\"],\n",
    "    partial_variables={\"format_instructions\": format_instructions}\n",
    ")\n",
    "\n",
    "# 增加輸出格式解析 \n",
    "chain = LLMChain(llm=llm,prompt=prompt,output_parser=output_parser)\n",
    "response = chain.run(\"Q:世界人口最多的兩個國家?\")\n",
    "\n",
    "# 則輸出內容是以逗點隔開的 List \n",
    "print(response)\n",
    "print(type(response))"
   ]
  },
  {
   "cell_type": "code",
   "execution_count": 51,
   "metadata": {},
   "outputs": [
    {
     "name": "stdout",
     "output_type": "stream",
     "text": [
      "['中國', '印度']\n",
      "<class 'list'>\n"
     ]
    }
   ],
   "source": [
    "from langchain.chat_models import AzureChatOpenAI\n",
    "\n",
    "chat = AzureChatOpenAI(deployment_name=model,model_name='gpt-35-turbo')\n",
    "\n",
    "# 將 AzureChatOpenAI 以 LLMChain 方式使用\n",
    "chain = LLMChain(llm=chat,prompt=prompt)\n",
    "responses = chain.run(\"世界人口最多的兩個國家?\")\n",
    "\n",
    "# 沿用前面建立的 Prompt Template 與 Ouptut Parser 輸出內容是逗點隔開的 List \n",
    "print(response)\n",
    "print(type(response))"
   ]
  },
  {
   "cell_type": "markdown",
   "metadata": {},
   "source": [
    "## 3. 使用文件載入工具載入 Wikipedia 內容\n",
    "\n",
    "LangChain 提供豐富的文件載入 (Documenet Loader) 工具，以便將一般文字檔， CSV 格式檔案，PDF 格式檔案，JSON 格式檔案等眾多檔案格式以一致的 Document 物件來被框架內其他物件所使用，目前 LangChain 有超過七十種以上的文件載入工具可以供選用。接下來以能夠搜尋與載入 Wikipedia 內容 的 WikipediaLoader 作為範例。"
   ]
  },
  {
   "cell_type": "code",
   "execution_count": 52,
   "metadata": {},
   "outputs": [
    {
     "data": {
      "text/plain": [
       "2"
      ]
     },
     "execution_count": 52,
     "metadata": {},
     "output_type": "execute_result"
    }
   ],
   "source": [
    "from langchain.document_loaders import WikipediaLoader\n",
    "\n",
    "# 查詢 Wikipedia 台灣條目，透過 load_max_docs 參數限制最多只載入兩篇內容\n",
    "docs = WikipediaLoader(query=\"台灣\", load_max_docs=2).load()\n",
    "len(docs)"
   ]
  },
  {
   "cell_type": "code",
   "execution_count": 53,
   "metadata": {},
   "outputs": [
    {
     "data": {
      "text/plain": [
       "{'title': 'Taiwan',\n",
       " 'summary': 'Taiwan, officially the Republic of China (ROC), is a country in East Asia. It is located at the junction of the East and South China Seas in the northwestern Pacific Ocean, with the People\\'s Republic of China (PRC) to the northwest, Japan to the northeast, and the Philippines to the south. The territories controlled by the ROC consist of 168 islands with a combined area of 36,193 square kilometres (13,974 square miles). The main island of Taiwan, also known as Formosa, has an area of 35,808 square kilometres (13,826 square miles), with mountain ranges dominating the eastern two-thirds and plains in the western third, where its highly urbanized population is concentrated. The capital, Taipei, forms along with New Taipei City and Keelung, the largest metropolitan area in Taiwan. Other major cities include Taoyuan, Taichung, Tainan, and Kaohsiung. With around 23.9 million inhabitants, Taiwan is among the most densely populated countries in the world.\\nTaiwan has been settled for at least 25,000 years. Ancestors of Taiwanese indigenous peoples settled the island around 6,000 years ago. In the 17th century, large-scale Han Chinese (specifically the Hakkas and Hoklos) immigration to western Taiwan began under a Dutch colony and continued under the Kingdom of Tungning, the first predominantly Han Chinese state in Taiwanese history. The island was annexed in 1683 by the Qing dynasty of China and ceded to the Empire of Japan in 1895. The Republic of China, which had overthrown the Qing in 1911, took control of Taiwan following the surrender of Japan in 1945. Japan would renounce sovereignty over Taiwan in 1952. The immediate resumption of the Chinese Civil War resulted in the loss of the Chinese mainland to Communist forces, who established the People\\'s Republic of China and the flight of the ROC central government to Taiwan in 1949. The effective jurisdiction of the ROC has since been limited to Taiwan, Penghu, and smaller islands.\\nIn the early 1960s, Taiwan entered a period of rapid economic growth and industrialization called the \"Taiwan Miracle\". In the late 1980s and early 1990s, the ROC transitioned from a one-party state under martial law to a multi-party democracy, with democratically elected presidents since 1996. Taiwan\\'s export-oriented industrial economy is the 21st-largest in the world by nominal GDP and the 20th-largest by PPP measures, with a focus on steel, machinery, electronics, and chemicals manufacturing. Taiwan is a developed country, ranking 20th on GDP per capita by purchasing power parity (PPP) and 30th by nominal GDP per capita. It is ranked highly in terms of civil liberties, healthcare, and human development.The political status of Taiwan is contentious. The ROC no longer represents China as a member of the United Nations after UN members voted in 1971 to recognize the PRC instead. The ROC maintained its claim of being the sole legitimate representative of China and its territory until 1991, when it ceased to regard the CCP as a rebellious group and recognized its jurisdiction over Mainland China. Taiwan is claimed by the PRC, which refuses to establish diplomatic relations with countries that recognise the ROC. Taiwan maintains official diplomatic relations with 12 out of 193 UN member states and the Holy See, which governs Vatican City. Many others maintain unofficial diplomatic ties through representative offices and institutions that function as de facto embassies and consulates. International organizations in which the PRC participates either refuse to grant membership to Taiwan or allow it to participate only on a non-state basis under various names. Domestically, the major political contention is between parties favoring eventual Chinese unification and promoting a pan-Chinese identity, contrasted with those aspiring to formal international recognition and promoting a Taiwanese identity; into the 21st century, both sides have moderated their positions to broaden their appeal.',\n",
       " 'source': 'https://en.wikipedia.org/wiki/Taiwan'}"
      ]
     },
     "execution_count": 53,
     "metadata": {},
     "output_type": "execute_result"
    }
   ],
   "source": [
    "# 顯示第一篇內容的 Metadata\n",
    "docs[0].metadata \n"
   ]
  },
  {
   "cell_type": "code",
   "execution_count": 54,
   "metadata": {},
   "outputs": [
    {
     "name": "stdout",
     "output_type": "stream",
     "text": [
      "Taiwan, officially the Republic of China (ROC), is a country in East Asia. It is located at the junction of the East and South China Seas in the northwestern Pacific Ocean, with the People's Republic of China (PRC) to the northwest, Japan to the northeast, and the Philippines to the south. The territories controlled by the ROC consist of 168 islands with a combined area of 36,193 square kilometres\n"
     ]
    }
   ],
   "source": [
    "# 顯示第一篇內容前 400 字\n",
    "content = docs[0].page_content[:400]  \n",
    "print(content)"
   ]
  },
  {
   "cell_type": "markdown",
   "metadata": {},
   "source": [
    "## 4 使用載入的文件詢問問題\n",
    "\n",
    "以基礎模型來回答問題"
   ]
  },
  {
   "cell_type": "code",
   "execution_count": 55,
   "metadata": {},
   "outputs": [
    {
     "name": "stdout",
     "output_type": "stream",
     "text": [
      "台灣面積約有3.6萬平方公里。\n"
     ]
    }
   ],
   "source": [
    "# 完全依賴基礎模型回答問題，得到的答案是 3.6 萬平方公里\n",
    "llm = AzureOpenAI(deployment_name=model,model_name='gpt-35-turbo',temperature=0,model_kwargs={\"stop\": [\"\\n\"]})\n",
    "prompt = \"問題:台灣面積有多大?\\n答案:\"\n",
    "response = llm (prompt ,max_tokens=1000)\n",
    "print (response)"
   ]
  },
  {
   "cell_type": "markdown",
   "metadata": {},
   "source": [
    "使用之前已經建立的 llm 來詢問 Wikipedia 下載的文件內容，由回覆的答案可以知道並非來自基礎模型，而是來自下載的 Wikipedia 文件"
   ]
  },
  {
   "cell_type": "code",
   "execution_count": 56,
   "metadata": {},
   "outputs": [
    {
     "name": "stdout",
     "output_type": "stream",
     "text": [
      "問題:依據以下事實回答，台灣面積有多大?\n",
      "事實:Taiwan, officially the Republic of China (ROC), is a country in East Asia. It is located at the junction of the East and South China Seas in the northwestern Pacific Ocean, with the People's Republic of China (PRC) to the northwest, Japan to the northeast, and the Philippines to the south. The territories controlled by the ROC consist of 168 islands with a combined area of 36,193 square kilometres\n",
      "答案:\n",
      "36,193平方公里\n"
     ]
    }
   ],
   "source": [
    "# 使用 Wikipeida 載入之文件內容回答問題，得到 36,193 平方公里\n",
    "prompt = \"問題:依據以下事實回答，台灣面積有多大?\\n事實:\"+content+\"\\n答案:\"\n",
    "print (prompt)\n",
    "prediction = llm (prompt ,max_tokens=1000)\n",
    "print (prediction)"
   ]
  },
  {
   "cell_type": "markdown",
   "metadata": {},
   "source": [
    "也可以利用 prompt template 來增加提示的彈性，prompt template 除了可以搭配 LLMChain 這個鍊使用之外，也可單純用搭配特定的大型語言模型來使用，例如 AzureOpenAI，只是需要將 PromptTemplate 物件輸出轉換為字串"
   ]
  },
  {
   "cell_type": "code",
   "execution_count": 57,
   "metadata": {},
   "outputs": [
    {
     "name": "stdout",
     "output_type": "stream",
     "text": [
      "36,193平方公里\n"
     ]
    }
   ],
   "source": [
    "from langchain import PromptTemplate\n",
    "\n",
    "prompt_template = PromptTemplate(input_variables=[\"doc_content\"], template=\"問題:依據以下事實回答，台灣面積有多大?\\n事實:{doc_content}\\n答案:\")\n",
    "prompt_formatted_str: str = prompt_template.format(doc_content = content)\n",
    "\n",
    "response = llm.predict(prompt_formatted_str,max_tokens=1000,temperature=0)\n",
    "print (response)"
   ]
  },
  {
   "cell_type": "markdown",
   "metadata": {},
   "source": [
    "## 5. 改由使用 Chain 的方式來處理文件詢問問題\n",
    "接下來我們開始運用各式 Chain 來簡化應用程式撰寫複雜度，下面程式碼是使用專為處理問答的 QA Chain 搭配 AzureOpenAI 模型來處理下載的 Wikipedia 條目文件 docs 之內容問答"
   ]
  },
  {
   "cell_type": "code",
   "execution_count": 59,
   "metadata": {},
   "outputs": [
    {
     "name": "stdout",
     "output_type": "stream",
     "text": [
      " 36,193\n",
      "<class 'str'>\n"
     ]
    }
   ],
   "source": [
    "from langchain.chains.question_answering import load_qa_chain\n",
    "\n",
    "llm = AzureOpenAI(deployment_name=model,model_name='gpt-35-turbo',temperature=0,model_kwargs={\"stop\": [\"\\n\"]})\n",
    "\n",
    "# 建立問答鏈與載入 Wikipedia 資料\n",
    "chain = load_qa_chain(llm, chain_type=\"stuff\")\n",
    "query = \"台灣面積有多少平方公里?\\n整數答案:\"\n",
    "response = chain.run(input_documents=docs, question=query, return_only_outputs=True)\n",
    "\n",
    "# 顯示輸出結果與資料型態\n",
    "print(response)\n",
    "print(type(response))"
   ]
  },
  {
   "cell_type": "markdown",
   "metadata": {},
   "source": [
    "LangChain 擁有眾多功能豐富之 Chain，例如我們可以使用 [LLMMathChain](https://python.langchain.com/docs/use_cases/code_writing/llm_math) 為現有大型語言模型增添數學運算的能力，利用大型語言模型解析自然語言，再搭配 Python 來進行數學運算。 由於台灣林地面積為總面積的 58%，將前一個問答鍊的台灣總面積的答案輸入到一下個數學計算鍊，即可計算出台灣林地面積為 20991 平方公里。"
   ]
  },
  {
   "cell_type": "code",
   "execution_count": 44,
   "metadata": {},
   "outputs": [
    {
     "data": {
      "text/plain": [
       "'Answer: 20991.94'"
      ]
     },
     "execution_count": 44,
     "metadata": {},
     "output_type": "execute_result"
    }
   ],
   "source": [
    "from langchain import LLMMathChain\n",
    "\n",
    "prompt = response +\"乘上百分之五十八等於多少?\" \n",
    "llm_math = LLMMathChain.from_llm(llm=llm, verbose=False)\n",
    "llm_math.run( prompt)"
   ]
  },
  {
   "cell_type": "markdown",
   "metadata": {},
   "source": [
    "## 6 練習在 LangChain 內使用 Azure OpenAI Embeddings\n",
    "利用台北市政府開放資料 [112年度美食在台北「鍋際大賞」店家名單](https://data.taipei/dataset/detail?id=7eec2e8f-02f9-4100-9171-66f6667b8b3d) 為範例，以 LangChain 所提供的 CSV 載入工具，將資料載入後，再使用 Azure OpenAI Embeddings 進行店家名稱與地址的向量計算。並以 Meta 公司 Facebook AI 團隊開放原始程式碼向量資料庫 FAISS 將向量值儲存在本機的檔案系統中，以便後續的向量近似搜尋，FAISS 的近似比對是採用 L2 norm 方式來將兩個向量間的距離正規化，分數越接近零代表兩個向量越相似，這與 OpenAI Embeddings 的餘弦近似 (cosine similarity) 正規化後的分數值不一樣，餘弦近似分數越接近 1 的則兩個向量越相似。"
   ]
  },
  {
   "cell_type": "code",
   "execution_count": 2,
   "metadata": {},
   "outputs": [
    {
     "name": "stdout",
     "output_type": "stream",
     "text": [
      "序號: 1\n",
      "區域: 中山區\n",
      "店家: 滿堂紅頂級麻辣鴛鴦鍋\n",
      "報名組別: 經典鍋物組(799以下)\n",
      "營業地址: 臺北市中山區松江路185號2樓\n",
      "Longitude: 121.5331715\n",
      "Latitude: 25.05724095\n"
     ]
    }
   ],
   "source": [
    "from langchain.document_loaders.csv_loader import CSVLoader\n",
    "from langchain.embeddings import OpenAIEmbeddings\n",
    "from langchain.vectorstores import FAISS\n",
    "\n",
    "# 建立 Azure OpenAI Embeddings 類別的實例\n",
    "embeddings_model = OpenAIEmbeddings(deployment=\"text-embedding-ada-002\", chunk_size = 16)\n",
    "\n",
    "# 以 LangChain 的 CSVLoader 類別，讀取 CSV 檔案並載入文件\n",
    "loader = CSVLoader(file_path=\"./data/2023-taipei-hot pot-restaurant.csv\",\n",
    "                   csv_args={\n",
    "                    \"delimiter\": \",\",                    \n",
    "                    \"fieldnames\": [\"序號\",\"區域\",\"店家\",\"報名組別\",\"營業地址\",\"Longitude\",\"Latitude\"],\n",
    "                    },                    \n",
    "                   encoding=\"utf-8\")\n",
    "docs = loader.load()\n",
    "\n",
    "# 顯示 docs 內的第一筆資料\n",
    "print (docs[1].page_content)\n",
    "\n",
    "# 載入 CSV 文件計算 OpenAI Embeddings 向量值，並建立 FAISS 向量資料庫索引\n",
    "db = FAISS.from_documents(documents=docs, embedding=embeddings_model)\n",
    "\n",
    "# 將 FAISS 向量資料索引儲存於本機磁碟 \n",
    "db.save_local(\"./data/FAISS/faiss_index\")"
   ]
  },
  {
   "cell_type": "markdown",
   "metadata": {},
   "source": [
    "以下重新載入 FAISS 向量值索引，並開始利用 FAISS 進行向量近似比對"
   ]
  },
  {
   "cell_type": "code",
   "execution_count": 37,
   "metadata": {},
   "outputs": [],
   "source": [
    "from langchain.embeddings import OpenAIEmbeddings\n",
    "from langchain.vectorstores import FAISS\n",
    "\n",
    "# 建立 Azure OpenAI Embeddings 類別的實例\n",
    "embeddings_model = OpenAIEmbeddings(deployment=\"text-embedding-ada-002\", chunk_size = 16)\n",
    "\n",
    "# 如果資料沒有變更未來僅需 db = FAISS.load_local(\"faiss_index\", embeddings_model) 方式即可載入之前建立的向量索引，無須重新計算文件的向量值\n",
    "db = FAISS.load_local(\"./data/FAISS/faiss_index\", embeddings_model)"
   ]
  },
  {
   "cell_type": "code",
   "execution_count": 38,
   "metadata": {},
   "outputs": [
    {
     "name": "stdout",
     "output_type": "stream",
     "text": [
      "(Document(page_content='序號: 60\\n區域: 士林區\\n店家: 錢都日式涮涮鍋-士林芝山店\\n報名組別: 經典鍋物組(799以下)\\n營業地址: 臺北市士林區福國路71號-1\\nLongitude: 121.5232239\\nLatitude: 25.10250454', metadata={'source': './data/2023-taipei-hot pot-restaurant.csv', 'row': 60}), 0.40526083)\n",
      "(Document(page_content='序號: 61\\n區域: 士林區\\n店家: 藏王極上鍋物\\n報名組別: 饗宴鍋物組(800以上)\\n營業地址: 臺北市士林區忠誠路二段55號3樓\\nLongitude: 121.5310986\\nLatitude: 25.11282254', metadata={'source': './data/2023-taipei-hot pot-restaurant.csv', 'row': 61}), 0.41024953)\n",
      "(Document(page_content='序號: 59\\n區域: 士林區\\n店家: 川邸鍋物專門\\n報名組別: 經典鍋物組(799以下)\\n營業地址: 臺北市士林區承德路四段79號1樓\\nLongitude: 121.5232675\\nLatitude: 25.08314465', metadata={'source': './data/2023-taipei-hot pot-restaurant.csv', 'row': 59}), 0.41173244)\n",
      "(Document(page_content='序號: 52\\n區域: 信義區\\n店家: 王鍋屋Shabu ong 京都風味酸白菜鍋專門店\\n報名組別: 饗宴鍋物組(800以上)\\n營業地址: 臺北市信義區逸仙路50巷20號1樓\\nLongitude: 121.5626957\\nLatitude: 25.04119888', metadata={'source': './data/2023-taipei-hot pot-restaurant.csv', 'row': 52}), 0.4437362)\n"
     ]
    }
   ],
   "source": [
    "# 直接傳入查詢字串方式來進行相似度搜尋\n",
    "query = \"士林\"\n",
    "docs_and_scores = db.similarity_search_with_score(query)\n",
    "\n",
    "# 顯示 docs_and_scores 全部內容\n",
    "for doc in docs_and_scores:\n",
    "    print(doc)  \n"
   ]
  },
  {
   "cell_type": "code",
   "execution_count": 39,
   "metadata": {},
   "outputs": [
    {
     "name": "stdout",
     "output_type": "stream",
     "text": [
      "page_content='序號: 1\\n區域: 中山區\\n店家: 滿堂紅頂級麻辣鴛鴦鍋\\n報名組別: 經典鍋物組(799以下)\\n營業地址: 臺北市中山區松江路185號2樓\\nLongitude: 121.5331715\\nLatitude: 25.05724095' metadata={'source': './data/2023-taipei-hot pot-restaurant.csv', 'row': 1}\n",
      "page_content='序號: 30\\n區域: 松山區\\n店家: 芳朵麻辣鍋 Fondue M spicy pot\\n報名組別: 饗宴鍋物組(800以上)\\n營業地址: 臺北市松山區光復北路98號2樓\\nLongitude: 121.5574816\\nLatitude: 25.05121754' metadata={'source': './data/2023-taipei-hot pot-restaurant.csv', 'row': 30}\n",
      "page_content='序號: 44\\n區域: 大安區\\n店家: 養心殿精緻鍋物\\n報名組別: 饗宴鍋物組(800以上)\\n營業地址: 臺北市大安區市民大道四段110號1樓\\nLongitude: 121.5505838\\nLatitude: 25.04554317' metadata={'source': './data/2023-taipei-hot pot-restaurant.csv', 'row': 44}\n",
      "page_content='序號: 39\\n區域: 大安區\\n店家: 太和殿\\n報名組別: 饗宴鍋物組(800以上)\\n營業地址: 臺北市大安區信義路四段315號1樓\\nLongitude: 121.5560896\\nLatitude: 25.03404847' metadata={'source': './data/2023-taipei-hot pot-restaurant.csv', 'row': 39}\n"
     ]
    }
   ],
   "source": [
    "# 以計算查詢字串向量方式來進行相似度搜尋\n",
    "query = \"滿堂紅\"\n",
    "embedding_vector = embeddings_model.embed_query(query)\n",
    "docs_and_scores = db.similarity_search_by_vector(embedding_vector)\n",
    "\n",
    "# 顯示 docs_and_scores 全部內容\n",
    "for doc in docs_and_scores:\n",
    "    print(doc)  "
   ]
  }
 ],
 "metadata": {
  "kernelspec": {
   "display_name": "Python 3",
   "language": "python",
   "name": "python3"
  },
  "language_info": {
   "codemirror_mode": {
    "name": "ipython",
    "version": 3
   },
   "file_extension": ".py",
   "mimetype": "text/x-python",
   "name": "python",
   "nbconvert_exporter": "python",
   "pygments_lexer": "ipython3",
   "version": "3.11.4"
  },
  "orig_nbformat": 4
 },
 "nbformat": 4,
 "nbformat_minor": 2
}
